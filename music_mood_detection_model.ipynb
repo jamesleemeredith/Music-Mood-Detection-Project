{
 "cells": [
  {
   "attachments": {},
   "cell_type": "markdown",
   "metadata": {},
   "source": [
    "![Picture](images/)"
   ]
  },
  {
   "attachments": {},
   "cell_type": "markdown",
   "metadata": {},
   "source": [
    "# Music Mood Detection Using Spotify Audio Features\n",
    "\n",
    "**Authors:** James Meredith\n",
    "***"
   ]
  },
  {
   "attachments": {},
   "cell_type": "markdown",
   "metadata": {},
   "source": [
    "## Overview\n",
    "\n",
    "The purpose of this Data Science project was to develop an automated Machine Learning model for the detection of a song's dominant mood based on it's audio features. The impetus behind conception of this project was to create a way for the Spotify recommendation system to implement mood-based contextual recommendation into the current recommendation system. The current recommendation system does a pretty good job of utilizing users past listening habits to recommend them songs they enjoy, but it lacks the context specificity to recommend songs appropriate to a user’s given mood. For example, I don’t want Spotify to include sad songs in my recommended playlist when I’m at the gym, or fast-paced techno music when I’m trying to fall asleep. So the goal of this project was to create an automated mood detection algorithm to be integrated into the current recommendation system, so users could simply say “Hey Spotify! Build me a playlist that matches my mood right now.” and Spotify does it. Song data was compiled from the Spotify API and emotion data used to train the model came from Last.FM user-generated tags. The data was then used to train a machine learning algorithm in order to build the detection model.  The logistic regression model had an accuracy score of 0.54. The decision tree model was also able to predict the dominant mood of a song with a 0.45 accuracy score. After tuning both models further, the decision tree model was able to achieve an accuracy score of 0.85, and the logistic regression model was able to achieve an accuracy score of 0.55. The decision tree model was also able to predict the dominant mood of a song with a 0.46 accuracy score. Based on the analysis, the author recommends the use of audio feature data to predict the dominant mood of a song. The author also recommends the use of a decision tree model to predict the dominant mood of a song based on it's audio features. The author does not recommend the use of a logistic regression model to predict the dominant mood of a song based on it's audio features.\n"
   ]
  },
  {
   "attachments": {},
   "cell_type": "markdown",
   "metadata": {},
   "source": [
    "## Business Problem\n",
    "\n",
    "Spotify currently offers a robust recommendation system whereby users receive recommendations for music they might like based on their past listening habits. However, Spotify does not currently offer a feature whereby users can request music based on their current mood. The purpose of this project is to develop a model that can predict the dominant mood of a song based on it's audio features, and then to use that model to develop a recommendation system for users to request music based on their current mood. The target audience for this project is Spotify, and the goal is to develop a model that can be integrated into the current recommendation system to allow users to request music based on their current mood."
   ]
  },
  {
   "attachments": {},
   "cell_type": "markdown",
   "metadata": {},
   "source": [
    "## Data\n",
    "\n",
    "Song data was compiled using a dataset derived from the Spotify API. The database contained of over 1700 songs, and features mood data from Last.FM user-generated tags."
   ]
  },
  {
   "cell_type": "code",
   "execution_count": 183,
   "metadata": {},
   "outputs": [],
   "source": [
    "import numpy as np\n",
    "import pandas as pd\n",
    "import matplotlib.pyplot as plt\n",
    "import seaborn as sns\n",
    "\n",
    "from sklearn.model_selection import train_test_split,GridSearchCV,cross_val_score\n",
    "from sklearn.pipeline import Pipeline\n",
    "from sklearn.preprocessing import StandardScaler,OneHotEncoder,FunctionTransformer\n",
    "from sklearn.impute import SimpleImputer\n",
    "from sklearn.compose import ColumnTransformer, make_column_selector as selector\n",
    "\n",
    "from sklearn.dummy import DummyClassifier\n",
    "from sklearn.linear_model import LogisticRegression\n",
    "from sklearn.tree import DecisionTreeClassifier\n",
    "from sklearn.ensemble import RandomForestClassifier, AdaBoostClassifier, GradientBoostingClassifier\n",
    "from sklearn.neighbors import KNeighborsClassifier\n",
    "from sklearn.svm import SVC\n",
    "from sklearn.neural_network import MLPClassifier\n",
    "\n",
    "from sklearn.metrics import accuracy_score, classification_report, confusion_matrix, ConfusionMatrixDisplay\n",
    "from sklearn.datasets import make_classification"
   ]
  },
  {
   "cell_type": "code",
   "execution_count": 184,
   "metadata": {},
   "outputs": [],
   "source": [
    "# Loads the dataset\n",
    "df = pd.read_csv('./data/song_data.csv')"
   ]
  },
  {
   "cell_type": "code",
   "execution_count": 185,
   "metadata": {},
   "outputs": [
    {
     "data": {
      "text/html": [
       "<div>\n",
       "<style scoped>\n",
       "    .dataframe tbody tr th:only-of-type {\n",
       "        vertical-align: middle;\n",
       "    }\n",
       "\n",
       "    .dataframe tbody tr th {\n",
       "        vertical-align: top;\n",
       "    }\n",
       "\n",
       "    .dataframe thead th {\n",
       "        text-align: right;\n",
       "    }\n",
       "</style>\n",
       "<table border=\"1\" class=\"dataframe\">\n",
       "  <thead>\n",
       "    <tr style=\"text-align: right;\">\n",
       "      <th></th>\n",
       "      <th>f_name</th>\n",
       "      <th>a_name</th>\n",
       "      <th>title</th>\n",
       "      <th>lyrics</th>\n",
       "      <th>spot_id</th>\n",
       "      <th>sr_json</th>\n",
       "      <th>tempo</th>\n",
       "      <th>energy</th>\n",
       "      <th>danceability</th>\n",
       "      <th>loudness</th>\n",
       "      <th>valence</th>\n",
       "      <th>acousticness</th>\n",
       "      <th>tr_json</th>\n",
       "      <th>mood</th>\n",
       "    </tr>\n",
       "  </thead>\n",
       "  <tbody>\n",
       "    <tr>\n",
       "      <th>0</th>\n",
       "      <td>angry_all/50 Ft Queenie.mp3</td>\n",
       "      <td>PJ Harvey</td>\n",
       "      <td>50 Ft Queenie</td>\n",
       "      <td>Hey I'm one big queen  No one can stop me Red ...</td>\n",
       "      <td>3fJprjhRxTVtOp18EHdNfu</td>\n",
       "      <td>{\\n \"tracks\": {\\n  \"href\": \"https://api.spotif...</td>\n",
       "      <td>126.366</td>\n",
       "      <td>0.667</td>\n",
       "      <td>0.382</td>\n",
       "      <td>-16.077</td>\n",
       "      <td>0.718</td>\n",
       "      <td>0.000652</td>\n",
       "      <td>{\\n \"acousticness\": 0.000652,\\n \"analysis_url\"...</td>\n",
       "      <td>1</td>\n",
       "    </tr>\n",
       "    <tr>\n",
       "      <th>1</th>\n",
       "      <td>angry_all/A Bad Dream.mp3</td>\n",
       "      <td>Keane</td>\n",
       "      <td>A Bad Dream</td>\n",
       "      <td>Why do I have to fly over every town up and do...</td>\n",
       "      <td>17ScnUBsr3CgfJGd7k0kAZ</td>\n",
       "      <td>{\\n \"tracks\": {\\n  \"href\": \"https://api.spotif...</td>\n",
       "      <td>145.035</td>\n",
       "      <td>0.760</td>\n",
       "      <td>0.405</td>\n",
       "      <td>-4.852</td>\n",
       "      <td>0.316</td>\n",
       "      <td>0.008240</td>\n",
       "      <td>{\\n \"acousticness\": 0.00824,\\n \"analysis_url\":...</td>\n",
       "      <td>1</td>\n",
       "    </tr>\n",
       "    <tr>\n",
       "      <th>2</th>\n",
       "      <td>angry_all/Agenda Suicide (Jagz Kooner Remix).mp3</td>\n",
       "      <td>The Faint</td>\n",
       "      <td>Agenda Suicide</td>\n",
       "      <td>You could follow logic Or contest it all The w...</td>\n",
       "      <td>4Mhj9IjSxTOOWGCS5MbBG4</td>\n",
       "      <td>{\\n \"tracks\": {\\n  \"href\": \"https://api.spotif...</td>\n",
       "      <td>144.585</td>\n",
       "      <td>0.703</td>\n",
       "      <td>0.574</td>\n",
       "      <td>-7.789</td>\n",
       "      <td>0.275</td>\n",
       "      <td>0.006580</td>\n",
       "      <td>{\\n \"acousticness\": 0.00658,\\n \"analysis_url\":...</td>\n",
       "      <td>1</td>\n",
       "    </tr>\n",
       "    <tr>\n",
       "      <th>3</th>\n",
       "      <td>angry_all/Alternative Ulster.mp3</td>\n",
       "      <td>Stiff Little Fingers</td>\n",
       "      <td>Alternative Ulster</td>\n",
       "      <td>There's nothin' for us in Belfast The Pound's ...</td>\n",
       "      <td>0MDJjySh4ydA8CyFVkcFQh</td>\n",
       "      <td>{\\n \"tracks\": {\\n  \"href\": \"https://api.spotif...</td>\n",
       "      <td>118.181</td>\n",
       "      <td>0.925</td>\n",
       "      <td>0.600</td>\n",
       "      <td>-9.148</td>\n",
       "      <td>0.382</td>\n",
       "      <td>0.008820</td>\n",
       "      <td>{\\n \"acousticness\": 0.00882,\\n \"analysis_url\":...</td>\n",
       "      <td>1</td>\n",
       "    </tr>\n",
       "    <tr>\n",
       "      <th>4</th>\n",
       "      <td>angry_all/Animal Instinct.mp3</td>\n",
       "      <td>The Cranberries</td>\n",
       "      <td>Animal Instinct</td>\n",
       "      <td>Suddenly something has happened to me As I was...</td>\n",
       "      <td>3J58Ccc5iTbCRnYx2xjo6d</td>\n",
       "      <td>{\\n \"tracks\": {\\n  \"href\": \"https://api.spotif...</td>\n",
       "      <td>132.145</td>\n",
       "      <td>0.823</td>\n",
       "      <td>0.622</td>\n",
       "      <td>-5.381</td>\n",
       "      <td>0.605</td>\n",
       "      <td>0.094600</td>\n",
       "      <td>{\\n \"acousticness\": 0.0946,\\n \"analysis_url\": ...</td>\n",
       "      <td>1</td>\n",
       "    </tr>\n",
       "  </tbody>\n",
       "</table>\n",
       "</div>"
      ],
      "text/plain": [
       "                                             f_name                a_name  \\\n",
       "0                       angry_all/50 Ft Queenie.mp3             PJ Harvey   \n",
       "1                         angry_all/A Bad Dream.mp3                 Keane   \n",
       "2  angry_all/Agenda Suicide (Jagz Kooner Remix).mp3             The Faint   \n",
       "3                  angry_all/Alternative Ulster.mp3  Stiff Little Fingers   \n",
       "4                     angry_all/Animal Instinct.mp3       The Cranberries   \n",
       "\n",
       "                title                                             lyrics  \\\n",
       "0       50 Ft Queenie  Hey I'm one big queen  No one can stop me Red ...   \n",
       "1         A Bad Dream  Why do I have to fly over every town up and do...   \n",
       "2     Agenda Suicide   You could follow logic Or contest it all The w...   \n",
       "3  Alternative Ulster  There's nothin' for us in Belfast The Pound's ...   \n",
       "4     Animal Instinct  Suddenly something has happened to me As I was...   \n",
       "\n",
       "                  spot_id                                            sr_json  \\\n",
       "0  3fJprjhRxTVtOp18EHdNfu  {\\n \"tracks\": {\\n  \"href\": \"https://api.spotif...   \n",
       "1  17ScnUBsr3CgfJGd7k0kAZ  {\\n \"tracks\": {\\n  \"href\": \"https://api.spotif...   \n",
       "2  4Mhj9IjSxTOOWGCS5MbBG4  {\\n \"tracks\": {\\n  \"href\": \"https://api.spotif...   \n",
       "3  0MDJjySh4ydA8CyFVkcFQh  {\\n \"tracks\": {\\n  \"href\": \"https://api.spotif...   \n",
       "4  3J58Ccc5iTbCRnYx2xjo6d  {\\n \"tracks\": {\\n  \"href\": \"https://api.spotif...   \n",
       "\n",
       "     tempo  energy  danceability  loudness  valence  acousticness  \\\n",
       "0  126.366   0.667         0.382   -16.077    0.718      0.000652   \n",
       "1  145.035   0.760         0.405    -4.852    0.316      0.008240   \n",
       "2  144.585   0.703         0.574    -7.789    0.275      0.006580   \n",
       "3  118.181   0.925         0.600    -9.148    0.382      0.008820   \n",
       "4  132.145   0.823         0.622    -5.381    0.605      0.094600   \n",
       "\n",
       "                                             tr_json  mood  \n",
       "0  {\\n \"acousticness\": 0.000652,\\n \"analysis_url\"...     1  \n",
       "1  {\\n \"acousticness\": 0.00824,\\n \"analysis_url\":...     1  \n",
       "2  {\\n \"acousticness\": 0.00658,\\n \"analysis_url\":...     1  \n",
       "3  {\\n \"acousticness\": 0.00882,\\n \"analysis_url\":...     1  \n",
       "4  {\\n \"acousticness\": 0.0946,\\n \"analysis_url\": ...     1  "
      ]
     },
     "execution_count": 185,
     "metadata": {},
     "output_type": "execute_result"
    }
   ],
   "source": [
    "# Views the dataset\n",
    "df.head()"
   ]
  },
  {
   "cell_type": "code",
   "execution_count": 186,
   "metadata": {},
   "outputs": [
    {
     "name": "stdout",
     "output_type": "stream",
     "text": [
      "<class 'pandas.core.frame.DataFrame'>\n",
      "RangeIndex: 1776 entries, 0 to 1775\n",
      "Data columns (total 14 columns):\n",
      " #   Column        Non-Null Count  Dtype  \n",
      "---  ------        --------------  -----  \n",
      " 0   f_name        1776 non-null   object \n",
      " 1   a_name        1776 non-null   object \n",
      " 2   title         1776 non-null   object \n",
      " 3   lyrics        1776 non-null   object \n",
      " 4   spot_id       1776 non-null   object \n",
      " 5   sr_json       1776 non-null   object \n",
      " 6   tempo         1776 non-null   float64\n",
      " 7   energy        1776 non-null   float64\n",
      " 8   danceability  1776 non-null   float64\n",
      " 9   loudness      1776 non-null   float64\n",
      " 10  valence       1776 non-null   float64\n",
      " 11  acousticness  1776 non-null   float64\n",
      " 12  tr_json       1776 non-null   object \n",
      " 13  mood          1776 non-null   int64  \n",
      "dtypes: float64(6), int64(1), object(7)\n",
      "memory usage: 194.4+ KB\n"
     ]
    }
   ],
   "source": [
    "# Views and overview of the dataset\n",
    "df.info()"
   ]
  },
  {
   "cell_type": "code",
   "execution_count": 187,
   "metadata": {},
   "outputs": [
    {
     "data": {
      "text/html": [
       "<div>\n",
       "<style scoped>\n",
       "    .dataframe tbody tr th:only-of-type {\n",
       "        vertical-align: middle;\n",
       "    }\n",
       "\n",
       "    .dataframe tbody tr th {\n",
       "        vertical-align: top;\n",
       "    }\n",
       "\n",
       "    .dataframe thead th {\n",
       "        text-align: right;\n",
       "    }\n",
       "</style>\n",
       "<table border=\"1\" class=\"dataframe\">\n",
       "  <thead>\n",
       "    <tr style=\"text-align: right;\">\n",
       "      <th></th>\n",
       "      <th>tempo</th>\n",
       "      <th>energy</th>\n",
       "      <th>danceability</th>\n",
       "      <th>loudness</th>\n",
       "      <th>valence</th>\n",
       "      <th>acousticness</th>\n",
       "      <th>mood</th>\n",
       "    </tr>\n",
       "  </thead>\n",
       "  <tbody>\n",
       "    <tr>\n",
       "      <th>count</th>\n",
       "      <td>1776.000000</td>\n",
       "      <td>1776.000000</td>\n",
       "      <td>1776.000000</td>\n",
       "      <td>1776.000000</td>\n",
       "      <td>1776.000000</td>\n",
       "      <td>1776.000000</td>\n",
       "      <td>1776.000000</td>\n",
       "    </tr>\n",
       "    <tr>\n",
       "      <th>mean</th>\n",
       "      <td>125.065478</td>\n",
       "      <td>0.637407</td>\n",
       "      <td>0.515200</td>\n",
       "      <td>-8.658334</td>\n",
       "      <td>0.459322</td>\n",
       "      <td>0.257100</td>\n",
       "      <td>1.495495</td>\n",
       "    </tr>\n",
       "    <tr>\n",
       "      <th>std</th>\n",
       "      <td>29.567663</td>\n",
       "      <td>0.257511</td>\n",
       "      <td>0.163382</td>\n",
       "      <td>4.052949</td>\n",
       "      <td>0.254182</td>\n",
       "      <td>0.320999</td>\n",
       "      <td>1.114808</td>\n",
       "    </tr>\n",
       "    <tr>\n",
       "      <th>min</th>\n",
       "      <td>38.802000</td>\n",
       "      <td>0.016400</td>\n",
       "      <td>0.078600</td>\n",
       "      <td>-28.043000</td>\n",
       "      <td>0.033100</td>\n",
       "      <td>0.000002</td>\n",
       "      <td>0.000000</td>\n",
       "    </tr>\n",
       "    <tr>\n",
       "      <th>25%</th>\n",
       "      <td>102.911000</td>\n",
       "      <td>0.439000</td>\n",
       "      <td>0.413750</td>\n",
       "      <td>-10.843750</td>\n",
       "      <td>0.241750</td>\n",
       "      <td>0.003845</td>\n",
       "      <td>1.000000</td>\n",
       "    </tr>\n",
       "    <tr>\n",
       "      <th>50%</th>\n",
       "      <td>123.687000</td>\n",
       "      <td>0.675500</td>\n",
       "      <td>0.519000</td>\n",
       "      <td>-7.942500</td>\n",
       "      <td>0.429000</td>\n",
       "      <td>0.074100</td>\n",
       "      <td>1.000000</td>\n",
       "    </tr>\n",
       "    <tr>\n",
       "      <th>75%</th>\n",
       "      <td>142.341000</td>\n",
       "      <td>0.860000</td>\n",
       "      <td>0.619250</td>\n",
       "      <td>-5.515500</td>\n",
       "      <td>0.675000</td>\n",
       "      <td>0.494500</td>\n",
       "      <td>2.000000</td>\n",
       "    </tr>\n",
       "    <tr>\n",
       "      <th>max</th>\n",
       "      <td>207.673000</td>\n",
       "      <td>0.999000</td>\n",
       "      <td>0.966000</td>\n",
       "      <td>-1.017000</td>\n",
       "      <td>0.986000</td>\n",
       "      <td>0.994000</td>\n",
       "      <td>3.000000</td>\n",
       "    </tr>\n",
       "  </tbody>\n",
       "</table>\n",
       "</div>"
      ],
      "text/plain": [
       "             tempo       energy  danceability     loudness      valence  \\\n",
       "count  1776.000000  1776.000000   1776.000000  1776.000000  1776.000000   \n",
       "mean    125.065478     0.637407      0.515200    -8.658334     0.459322   \n",
       "std      29.567663     0.257511      0.163382     4.052949     0.254182   \n",
       "min      38.802000     0.016400      0.078600   -28.043000     0.033100   \n",
       "25%     102.911000     0.439000      0.413750   -10.843750     0.241750   \n",
       "50%     123.687000     0.675500      0.519000    -7.942500     0.429000   \n",
       "75%     142.341000     0.860000      0.619250    -5.515500     0.675000   \n",
       "max     207.673000     0.999000      0.966000    -1.017000     0.986000   \n",
       "\n",
       "       acousticness         mood  \n",
       "count   1776.000000  1776.000000  \n",
       "mean       0.257100     1.495495  \n",
       "std        0.320999     1.114808  \n",
       "min        0.000002     0.000000  \n",
       "25%        0.003845     1.000000  \n",
       "50%        0.074100     1.000000  \n",
       "75%        0.494500     2.000000  \n",
       "max        0.994000     3.000000  "
      ]
     },
     "execution_count": 187,
     "metadata": {},
     "output_type": "execute_result"
    }
   ],
   "source": [
    "# Description of the numeric data\n",
    "df.describe()"
   ]
  },
  {
   "cell_type": "code",
   "execution_count": 188,
   "metadata": {},
   "outputs": [
    {
     "data": {
      "text/plain": [
       "0    0.246622\n",
       "1    0.260698\n",
       "2    0.243243\n",
       "3    0.249437\n",
       "Name: mood, dtype: float64"
      ]
     },
     "execution_count": 188,
     "metadata": {},
     "output_type": "execute_result"
    }
   ],
   "source": [
    "# Views the balance of the mood classes\n",
    "# Mood codes for the dataset are as follows: 0:'Happy', 1:'Angry', 2:'Sad', 3:'Relaxed'\n",
    "df['mood'].value_counts(normalize=True).sort_index()"
   ]
  },
  {
   "attachments": {},
   "cell_type": "markdown",
   "metadata": {},
   "source": [
    "**Discussion: The data at a glance**\n",
    "- We can note that the initial balance of each mood class is quite good as we have a good amount of data for each mood"
   ]
  },
  {
   "attachments": {},
   "cell_type": "markdown",
   "metadata": {},
   "source": [
    "**Limitations of the data:**\n",
    "- We're using a dataset that uses audio feature metrics created by Spotify in their API. This is a limitation because it's somewhat opaque how each audio feature is calculated, and it's possible that the audio features are not representative of the actual audio features of the song. This project assumes that the audio features are accurate and representative of the actual audio features of the song.\n",
    "- We're using user-generated tags from Last.FM to determine the dominant mood of a song. This is a limitation because it's possible that the tags are not accurate, or that the tags are not representative of the dominant mood of the song. This project assumes that the tags are accurate and representative of the dominant mood of the song.\n"
   ]
  },
  {
   "attachments": {},
   "cell_type": "markdown",
   "metadata": {},
   "source": [
    "## Data Preparation\n",
    "\n",
    "Songs were tagged with one of 4 moods: happy, sad, angry, and calm. All columns containing non-numeric data unessential to training the model were dropped. The dataset contained no nulls. The data was then split into a training set and a test set, with the training set containing 80% of the data, and the test set containing 20% of the data. The training set was used to train the model, and the test set was used to test the model. The data was then used to train a machine learning algorithm in order to build the detection model."
   ]
  },
  {
   "cell_type": "code",
   "execution_count": 189,
   "metadata": {},
   "outputs": [],
   "source": [
    "# Creates of list of the mood classes\n",
    "# Mood codes for the dataset are as follows: 0:'Happy', 1:'Angry', 2:'Sad', 3:'Relaxed'\n",
    "mood_list = ['Happy', 'Angry', 'Sad', 'Relaxed']"
   ]
  },
  {
   "cell_type": "code",
   "execution_count": 139,
   "metadata": {},
   "outputs": [],
   "source": [
    "# Preparing columns to drop out of X\n",
    "columns_to_drop=df.columns[0:6].tolist()\n",
    "columns_to_drop.append(df.columns[-2])\n",
    "columns_to_drop.append(df.columns[-1])"
   ]
  },
  {
   "attachments": {},
   "cell_type": "markdown",
   "metadata": {},
   "source": [
    "### Performing the Initial Train-Test Split"
   ]
  },
  {
   "cell_type": "code",
   "execution_count": 140,
   "metadata": {},
   "outputs": [],
   "source": [
    "# Splits the dataset into training and testing sets\n",
    "X = df.drop(columns_to_drop, axis=1)  # Features\n",
    "y = df['mood']  # Emotion labels\n",
    "X_train, X_test, y_train, y_test = train_test_split(X, y, test_size=0.2, random_state=42)"
   ]
  },
  {
   "cell_type": "code",
   "execution_count": 141,
   "metadata": {},
   "outputs": [
    {
     "data": {
      "text/html": [
       "<div>\n",
       "<style scoped>\n",
       "    .dataframe tbody tr th:only-of-type {\n",
       "        vertical-align: middle;\n",
       "    }\n",
       "\n",
       "    .dataframe tbody tr th {\n",
       "        vertical-align: top;\n",
       "    }\n",
       "\n",
       "    .dataframe thead th {\n",
       "        text-align: right;\n",
       "    }\n",
       "</style>\n",
       "<table border=\"1\" class=\"dataframe\">\n",
       "  <thead>\n",
       "    <tr style=\"text-align: right;\">\n",
       "      <th></th>\n",
       "      <th>tempo</th>\n",
       "      <th>energy</th>\n",
       "      <th>danceability</th>\n",
       "      <th>loudness</th>\n",
       "      <th>valence</th>\n",
       "      <th>acousticness</th>\n",
       "    </tr>\n",
       "  </thead>\n",
       "  <tbody>\n",
       "    <tr>\n",
       "      <th>0</th>\n",
       "      <td>126.366</td>\n",
       "      <td>0.667</td>\n",
       "      <td>0.382</td>\n",
       "      <td>-16.077</td>\n",
       "      <td>0.718</td>\n",
       "      <td>0.000652</td>\n",
       "    </tr>\n",
       "    <tr>\n",
       "      <th>1</th>\n",
       "      <td>145.035</td>\n",
       "      <td>0.760</td>\n",
       "      <td>0.405</td>\n",
       "      <td>-4.852</td>\n",
       "      <td>0.316</td>\n",
       "      <td>0.008240</td>\n",
       "    </tr>\n",
       "    <tr>\n",
       "      <th>2</th>\n",
       "      <td>144.585</td>\n",
       "      <td>0.703</td>\n",
       "      <td>0.574</td>\n",
       "      <td>-7.789</td>\n",
       "      <td>0.275</td>\n",
       "      <td>0.006580</td>\n",
       "    </tr>\n",
       "    <tr>\n",
       "      <th>3</th>\n",
       "      <td>118.181</td>\n",
       "      <td>0.925</td>\n",
       "      <td>0.600</td>\n",
       "      <td>-9.148</td>\n",
       "      <td>0.382</td>\n",
       "      <td>0.008820</td>\n",
       "    </tr>\n",
       "    <tr>\n",
       "      <th>4</th>\n",
       "      <td>132.145</td>\n",
       "      <td>0.823</td>\n",
       "      <td>0.622</td>\n",
       "      <td>-5.381</td>\n",
       "      <td>0.605</td>\n",
       "      <td>0.094600</td>\n",
       "    </tr>\n",
       "    <tr>\n",
       "      <th>...</th>\n",
       "      <td>...</td>\n",
       "      <td>...</td>\n",
       "      <td>...</td>\n",
       "      <td>...</td>\n",
       "      <td>...</td>\n",
       "      <td>...</td>\n",
       "    </tr>\n",
       "    <tr>\n",
       "      <th>1771</th>\n",
       "      <td>136.924</td>\n",
       "      <td>0.286</td>\n",
       "      <td>0.434</td>\n",
       "      <td>-10.803</td>\n",
       "      <td>0.122</td>\n",
       "      <td>0.533000</td>\n",
       "    </tr>\n",
       "    <tr>\n",
       "      <th>1772</th>\n",
       "      <td>137.928</td>\n",
       "      <td>0.605</td>\n",
       "      <td>0.536</td>\n",
       "      <td>-6.231</td>\n",
       "      <td>0.156</td>\n",
       "      <td>0.129000</td>\n",
       "    </tr>\n",
       "    <tr>\n",
       "      <th>1773</th>\n",
       "      <td>122.979</td>\n",
       "      <td>0.137</td>\n",
       "      <td>0.424</td>\n",
       "      <td>-15.580</td>\n",
       "      <td>0.288</td>\n",
       "      <td>0.909000</td>\n",
       "    </tr>\n",
       "    <tr>\n",
       "      <th>1774</th>\n",
       "      <td>190.714</td>\n",
       "      <td>0.285</td>\n",
       "      <td>0.326</td>\n",
       "      <td>-9.377</td>\n",
       "      <td>0.455</td>\n",
       "      <td>0.841000</td>\n",
       "    </tr>\n",
       "    <tr>\n",
       "      <th>1775</th>\n",
       "      <td>89.994</td>\n",
       "      <td>0.728</td>\n",
       "      <td>0.387</td>\n",
       "      <td>-10.639</td>\n",
       "      <td>0.112</td>\n",
       "      <td>0.000178</td>\n",
       "    </tr>\n",
       "  </tbody>\n",
       "</table>\n",
       "<p>1776 rows × 6 columns</p>\n",
       "</div>"
      ],
      "text/plain": [
       "        tempo  energy  danceability  loudness  valence  acousticness\n",
       "0     126.366   0.667         0.382   -16.077    0.718      0.000652\n",
       "1     145.035   0.760         0.405    -4.852    0.316      0.008240\n",
       "2     144.585   0.703         0.574    -7.789    0.275      0.006580\n",
       "3     118.181   0.925         0.600    -9.148    0.382      0.008820\n",
       "4     132.145   0.823         0.622    -5.381    0.605      0.094600\n",
       "...       ...     ...           ...       ...      ...           ...\n",
       "1771  136.924   0.286         0.434   -10.803    0.122      0.533000\n",
       "1772  137.928   0.605         0.536    -6.231    0.156      0.129000\n",
       "1773  122.979   0.137         0.424   -15.580    0.288      0.909000\n",
       "1774  190.714   0.285         0.326    -9.377    0.455      0.841000\n",
       "1775   89.994   0.728         0.387   -10.639    0.112      0.000178\n",
       "\n",
       "[1776 rows x 6 columns]"
      ]
     },
     "execution_count": 141,
     "metadata": {},
     "output_type": "execute_result"
    }
   ],
   "source": [
    "X"
   ]
  },
  {
   "cell_type": "code",
   "execution_count": 142,
   "metadata": {},
   "outputs": [
    {
     "data": {
      "text/plain": [
       "0       1\n",
       "1       1\n",
       "2       1\n",
       "3       1\n",
       "4       1\n",
       "       ..\n",
       "1771    3\n",
       "1772    3\n",
       "1773    3\n",
       "1774    3\n",
       "1775    3\n",
       "Name: mood, Length: 1776, dtype: int64"
      ]
     },
     "execution_count": 142,
     "metadata": {},
     "output_type": "execute_result"
    }
   ],
   "source": [
    "y"
   ]
  },
  {
   "attachments": {},
   "cell_type": "markdown",
   "metadata": {},
   "source": [
    "## Data Modeling\n",
    "\n",
    "The detection model was created using an iterative approach that compared the accuracy and efficiency of several different machine learning models against a baseline dummy model. Pipelines were used to efficiently process the data for each model. The models were then tuned using GridSearchCV to find the optimal hyperparameters for each model. The models were then evaluated using accuracy scores and confusion matrices."
   ]
  },
  {
   "attachments": {},
   "cell_type": "markdown",
   "metadata": {},
   "source": [
    "### Creating Pipeline to Prepare for Modeling"
   ]
  },
  {
   "cell_type": "code",
   "execution_count": 143,
   "metadata": {},
   "outputs": [],
   "source": [
    "# Creating Pipelines\n",
    "subpipe_numerics = Pipeline(steps = [\n",
    "\t('ss', StandardScaler())\n",
    "])"
   ]
  },
  {
   "cell_type": "code",
   "execution_count": 144,
   "metadata": {},
   "outputs": [],
   "source": [
    "# Creating a Column Transformer\n",
    "CT = ColumnTransformer(transformers=[\n",
    "\t('subpipe_numerics', subpipe_numerics,selector(dtype_include=np.number))\n",
    "], remainder='passthrough')"
   ]
  },
  {
   "attachments": {},
   "cell_type": "markdown",
   "metadata": {},
   "source": [
    "### Creating the Baseline Dummy Model"
   ]
  },
  {
   "cell_type": "code",
   "execution_count": 43,
   "metadata": {},
   "outputs": [],
   "source": [
    "# Creates a Pipeline for the Dummy Baseline Model\n",
    "dummy_model_pipe = Pipeline(steps = [\n",
    "\t('ct',CT),\n",
    "\t('baseline', DummyClassifier(strategy='most_frequent'))\n",
    "])"
   ]
  },
  {
   "cell_type": "code",
   "execution_count": 44,
   "metadata": {},
   "outputs": [
    {
     "data": {
      "text/plain": [
       "Pipeline(steps=[('ct',\n",
       "                 ColumnTransformer(remainder='passthrough',\n",
       "                                   transformers=[('subpipe_numerics',\n",
       "                                                  Pipeline(steps=[('ss',\n",
       "                                                                   StandardScaler())]),\n",
       "                                                  <sklearn.compose._column_transformer.make_column_selector object at 0x0000025FB0C8E6D0>)])),\n",
       "                ('baseline', DummyClassifier(strategy='most_frequent'))])"
      ]
     },
     "execution_count": 44,
     "metadata": {},
     "output_type": "execute_result"
    }
   ],
   "source": [
    "# Trains the model on the training data\n",
    "dummy_model_pipe.fit(X_train, y_train)  "
   ]
  },
  {
   "cell_type": "code",
   "execution_count": 45,
   "metadata": {},
   "outputs": [
    {
     "data": {
      "text/plain": [
       "0.2549295774647887"
      ]
     },
     "execution_count": 45,
     "metadata": {},
     "output_type": "execute_result"
    }
   ],
   "source": [
    "# Returns the mean accuracy score of the model based on the given training data and labels\n",
    "dummy_model_pipe.score(X_train, y_train)"
   ]
  },
  {
   "cell_type": "code",
   "execution_count": 46,
   "metadata": {},
   "outputs": [
    {
     "data": {
      "text/plain": [
       "0.28370786516853935"
      ]
     },
     "execution_count": 46,
     "metadata": {},
     "output_type": "execute_result"
    }
   ],
   "source": [
    "# Returns the mean accuracy score of the model based on the given testing data and labels\n",
    "dummy_model_pipe.score(X_test, y_test)"
   ]
  },
  {
   "cell_type": "code",
   "execution_count": 102,
   "metadata": {},
   "outputs": [],
   "source": [
    "# Creating a custom function to calculate the accuracy score of the model\n",
    "class ModelWithCV():\n",
    "    '''Structure to save the model and more easily see its crossvalidation'''\n",
    "    \n",
    "    def __init__(self, model, model_name, X, y, cv_now=True):\n",
    "        self.model = model\n",
    "        self.name = model_name\n",
    "        self.X = X\n",
    "        self.y = y\n",
    "        # For CV results\n",
    "        self.cv_results = None\n",
    "        self.cv_mean = None\n",
    "        self.cv_median = None\n",
    "        self.cv_std = None\n",
    "        #\n",
    "        if cv_now:\n",
    "            self.cross_validate()\n",
    "        \n",
    "    def cross_validate(self, X=None, y=None, kfolds=10):\n",
    "        '''\n",
    "        Perform cross-validation and return results.\n",
    "        \n",
    "        Args: \n",
    "          X:\n",
    "            Optional; Training data to perform CV on. Otherwise use X from object\n",
    "          y:\n",
    "            Optional; Training data to perform CV on. Otherwise use y from object\n",
    "          kfolds:\n",
    "            Optional; Number of folds for CV (default is 10)  \n",
    "        '''\n",
    "        \n",
    "        cv_X = X if X else self.X\n",
    "        cv_y = y if y else self.y\n",
    "\n",
    "        self.cv_results = cross_val_score(self.model, cv_X, cv_y, cv=kfolds)\n",
    "        self.cv_mean = np.mean(self.cv_results)\n",
    "        self.cv_median = np.median(self.cv_results)\n",
    "        self.cv_std = np.std(self.cv_results)\n",
    "\n",
    "        \n",
    "    def print_cv_summary(self):\n",
    "        cv_summary = (\n",
    "        f'''CV Results for `{self.name}` model:\n",
    "            {self.cv_mean:.5f} ± {self.cv_std:.5f} accuracy\n",
    "        ''')\n",
    "        print(cv_summary)\n",
    "\n",
    "        \n",
    "    def plot_cv(self, ax):\n",
    "        '''\n",
    "        Plot the cross-validation values using the array of results and given \n",
    "        Axis for plotting.\n",
    "        '''\n",
    "        ax.set_title(f'CV Results for `{self.name}` Model')\n",
    "        # Thinner violinplot with higher bw\n",
    "        sns.violinplot(y=self.cv_results, ax=ax, bw=.4)\n",
    "        sns.swarmplot(\n",
    "                y=self.cv_results,\n",
    "                color='orange',\n",
    "                size=10,\n",
    "                alpha= 0.8,\n",
    "                ax=ax\n",
    "        )\n",
    "\n",
    "        return ax"
   ]
  },
  {
   "cell_type": "code",
   "execution_count": 48,
   "metadata": {},
   "outputs": [
    {
     "data": {
      "image/png": "[encoded data removed]",
      "text/plain": [
       "<Figure size 576x576 with 1 Axes>"
      ]
     },
     "metadata": {
      "needs_background": "light"
     },
     "output_type": "display_data"
    }
   ],
   "source": [
    "# Creates a Cross-validated accuracy graph for the Dummy Baseline Model\n",
    "dummy_pipe = ModelWithCV(\n",
    "\tdummy_model_pipe,\n",
    "\tmodel_name='dummy',\n",
    "\tX=X_train,\n",
    "\ty=y_train)\n",
    "\n",
    "fig, ax = plt.subplots(figsize=(8,8))\n",
    "\n",
    "dummy_pipe.plot_cv(ax=ax);"
   ]
  },
  {
   "cell_type": "code",
   "execution_count": 49,
   "metadata": {},
   "outputs": [
    {
     "name": "stdout",
     "output_type": "stream",
     "text": [
      "Accuracy: 0.28370786516853935\n",
      "Classification Report:\n",
      "              precision    recall  f1-score   support\n",
      "\n",
      "           0       0.00      0.00      0.00        83\n",
      "           1       0.28      1.00      0.44       101\n",
      "           2       0.00      0.00      0.00        76\n",
      "           3       0.00      0.00      0.00        96\n",
      "\n",
      "    accuracy                           0.28       356\n",
      "   macro avg       0.07      0.25      0.11       356\n",
      "weighted avg       0.08      0.28      0.13       356\n",
      "\n"
     ]
    },
    {
     "name": "stderr",
     "output_type": "stream",
     "text": [
      "c:\\Users\\James\\anaconda3\\envs\\learn-env\\lib\\site-packages\\sklearn\\metrics\\_classification.py:1221: UndefinedMetricWarning: Precision and F-score are ill-defined and being set to 0.0 in labels with no predicted samples. Use `zero_division` parameter to control this behavior.\n",
      "  _warn_prf(average, modifier, msg_start, len(result))\n"
     ]
    },
    {
     "data": {
      "image/png": "[encoded data removed]",
      "text/plain": [
       "<Figure size 432x288 with 2 Axes>"
      ]
     },
     "metadata": {
      "needs_background": "light"
     },
     "output_type": "display_data"
    }
   ],
   "source": [
    "# Baseline Evaluation of the model\n",
    "y_pred = dummy_pipe.model.predict(X_test)\n",
    "accuracy = accuracy_score(y_test, y_pred)\n",
    "report = classification_report(y_test, y_pred)\n",
    "confusion_mat = confusion_matrix(y_test, y_pred)\n",
    "\n",
    "print(f'Accuracy: {accuracy}')\n",
    "print(f'Classification Report:\\n{report}')\n",
    "cm_disp = ConfusionMatrixDisplay(confusion_matrix=confusion_mat, display_labels=mood_list)\n",
    "cm_disp.plot()\n",
    "plt.show()"
   ]
  },
  {
   "attachments": {},
   "cell_type": "markdown",
   "metadata": {},
   "source": [
    "### Where to Go From Here\n",
    "- From here we'll quickly assess other possible alternative models to see if we can find a better model than the baseline dummy model."
   ]
  },
  {
   "attachments": {},
   "cell_type": "markdown",
   "metadata": {},
   "source": [
    "### Quickly Assessing Possible Alternative Models\n",
    "- We'll loop through a few different models to see if we can improve on the performance of the first simple model here."
   ]
  },
  {
   "cell_type": "code",
   "execution_count": 50,
   "metadata": {},
   "outputs": [],
   "source": [
    "# Creates variables of commonly used models\n",
    "dum_model = DummyClassifier(strategy='most_frequent')\n",
    "lr_model = LogisticRegression()\n",
    "tree_model = DecisionTreeClassifier()\n",
    "knn_model = KNeighborsClassifier()\n",
    "rf_model = RandomForestClassifier()\n",
    "ada_model = AdaBoostClassifier()\n",
    "gb_model = GradientBoostingClassifier()\n",
    "mlp_model = MLPClassifier()\n",
    "svc_model = SVC()\n",
    "\n",
    "# Creates a list of the models to be used\n",
    "model_list = [('dummy', dum_model), ('logreg', lr_model), ('dt', tree_model), ('knn', knn_model), ('rf', rf_model), ('ada', ada_model), ('gb', gb_model), ('mlp', mlp_model), ('svc', svc_model)]"
   ]
  },
  {
   "cell_type": "code",
   "execution_count": 51,
   "metadata": {},
   "outputs": [
    {
     "name": "stdout",
     "output_type": "stream",
     "text": [
      "CV Results for `dummy` model:\n",
      "            0.28373 ± 0.00818 accuracy\n",
      "        \n",
      "CV Results for `logreg` model:\n",
      "            0.48302 ± 0.06581 accuracy\n",
      "        \n",
      "CV Results for `dt` model:\n",
      "            0.48897 ± 0.08977 accuracy\n",
      "        \n",
      "CV Results for `knn` model:\n",
      "            0.48317 ± 0.05675 accuracy\n",
      "        \n",
      "CV Results for `rf` model:\n",
      "            0.59302 ± 0.05264 accuracy\n",
      "        \n",
      "CV Results for `ada` model:\n",
      "            0.43817 ± 0.09869 accuracy\n",
      "        \n",
      "CV Results for `gb` model:\n",
      "            0.54770 ± 0.03711 accuracy\n",
      "        \n"
     ]
    },
    {
     "name": "stderr",
     "output_type": "stream",
     "text": [
      "c:\\Users\\James\\anaconda3\\envs\\learn-env\\lib\\site-packages\\sklearn\\neural_network\\_multilayer_perceptron.py:582: ConvergenceWarning: Stochastic Optimizer: Maximum iterations (200) reached and the optimization hasn't converged yet.\n",
      "  warnings.warn(\n",
      "c:\\Users\\James\\anaconda3\\envs\\learn-env\\lib\\site-packages\\sklearn\\neural_network\\_multilayer_perceptron.py:582: ConvergenceWarning: Stochastic Optimizer: Maximum iterations (200) reached and the optimization hasn't converged yet.\n",
      "  warnings.warn(\n",
      "c:\\Users\\James\\anaconda3\\envs\\learn-env\\lib\\site-packages\\sklearn\\neural_network\\_multilayer_perceptron.py:582: ConvergenceWarning: Stochastic Optimizer: Maximum iterations (200) reached and the optimization hasn't converged yet.\n",
      "  warnings.warn(\n",
      "c:\\Users\\James\\anaconda3\\envs\\learn-env\\lib\\site-packages\\sklearn\\neural_network\\_multilayer_perceptron.py:582: ConvergenceWarning: Stochastic Optimizer: Maximum iterations (200) reached and the optimization hasn't converged yet.\n",
      "  warnings.warn(\n",
      "c:\\Users\\James\\anaconda3\\envs\\learn-env\\lib\\site-packages\\sklearn\\neural_network\\_multilayer_perceptron.py:582: ConvergenceWarning: Stochastic Optimizer: Maximum iterations (200) reached and the optimization hasn't converged yet.\n",
      "  warnings.warn(\n",
      "c:\\Users\\James\\anaconda3\\envs\\learn-env\\lib\\site-packages\\sklearn\\neural_network\\_multilayer_perceptron.py:582: ConvergenceWarning: Stochastic Optimizer: Maximum iterations (200) reached and the optimization hasn't converged yet.\n",
      "  warnings.warn(\n",
      "c:\\Users\\James\\anaconda3\\envs\\learn-env\\lib\\site-packages\\sklearn\\neural_network\\_multilayer_perceptron.py:582: ConvergenceWarning: Stochastic Optimizer: Maximum iterations (200) reached and the optimization hasn't converged yet.\n",
      "  warnings.warn(\n",
      "c:\\Users\\James\\anaconda3\\envs\\learn-env\\lib\\site-packages\\sklearn\\neural_network\\_multilayer_perceptron.py:582: ConvergenceWarning: Stochastic Optimizer: Maximum iterations (200) reached and the optimization hasn't converged yet.\n",
      "  warnings.warn(\n",
      "c:\\Users\\James\\anaconda3\\envs\\learn-env\\lib\\site-packages\\sklearn\\neural_network\\_multilayer_perceptron.py:582: ConvergenceWarning: Stochastic Optimizer: Maximum iterations (200) reached and the optimization hasn't converged yet.\n",
      "  warnings.warn(\n",
      "c:\\Users\\James\\anaconda3\\envs\\learn-env\\lib\\site-packages\\sklearn\\neural_network\\_multilayer_perceptron.py:582: ConvergenceWarning: Stochastic Optimizer: Maximum iterations (200) reached and the optimization hasn't converged yet.\n",
      "  warnings.warn(\n"
     ]
    },
    {
     "name": "stdout",
     "output_type": "stream",
     "text": [
      "CV Results for `mlp` model:\n",
      "            0.47762 ± 0.06496 accuracy\n",
      "        \n",
      "CV Results for `svc` model:\n",
      "            0.47175 ± 0.08425 accuracy\n",
      "        \n"
     ]
    },
    {
     "name": "stderr",
     "output_type": "stream",
     "text": [
      "c:\\Users\\James\\anaconda3\\envs\\learn-env\\lib\\site-packages\\sklearn\\neural_network\\_multilayer_perceptron.py:582: ConvergenceWarning: Stochastic Optimizer: Maximum iterations (200) reached and the optimization hasn't converged yet.\n",
      "  warnings.warn(\n"
     ]
    }
   ],
   "source": [
    "# Creates a Pipeline for each model in the model list, and returns a cross-validated accuracy score summary for each model\n",
    "for name, model in model_list:\n",
    "    loop_model_pipe = Pipeline(steps = [\n",
    "        ('ct',CT),\n",
    "        (name, model)\n",
    "    ])\n",
    "\n",
    "    loop_model_pipe.fit(X_train, y_train)\n",
    "\n",
    "    loop_model_pipe = ModelWithCV(\n",
    "        loop_model_pipe,\n",
    "        model_name=name,\n",
    "        X=X_test,\n",
    "        y=y_test)\n",
    "    loop_model_pipe.print_cv_summary()"
   ]
  },
  {
   "attachments": {},
   "cell_type": "markdown",
   "metadata": {},
   "source": [
    "**Discussion**\n",
    "- As we can see above, the models that performed the best on our test data were the decision tree, gradient boosting, and random forest models. This is likely because these models are able to capture the non-linear relationships between the audio features and the dominant mood of the song. Below we explicitly create each model and view the accuracy scores and confusion matrices for each model."
   ]
  },
  {
   "attachments": {},
   "cell_type": "markdown",
   "metadata": {},
   "source": [
    "#### The Decision Tree Model"
   ]
  },
  {
   "cell_type": "code",
   "execution_count": 52,
   "metadata": {},
   "outputs": [],
   "source": [
    "# Creates a Pipeline for the Decision Tree Model\n",
    "dt_model_pipe = Pipeline(steps = [\n",
    "\t('ct',CT),\n",
    "\t('dt', DecisionTreeClassifier())\n",
    "])"
   ]
  },
  {
   "cell_type": "code",
   "execution_count": 53,
   "metadata": {},
   "outputs": [
    {
     "data": {
      "text/plain": [
       "Pipeline(steps=[('ct',\n",
       "                 ColumnTransformer(remainder='passthrough',\n",
       "                                   transformers=[('subpipe_numerics',\n",
       "                                                  Pipeline(steps=[('ss',\n",
       "                                                                   StandardScaler())]),\n",
       "                                                  <sklearn.compose._column_transformer.make_column_selector object at 0x0000025FB0C8E6D0>)])),\n",
       "                ('dt', DecisionTreeClassifier())])"
      ]
     },
     "execution_count": 53,
     "metadata": {},
     "output_type": "execute_result"
    }
   ],
   "source": [
    "# Trains the logistic regression model\n",
    "dt_model_pipe.fit(X_train, y_train)"
   ]
  },
  {
   "cell_type": "code",
   "execution_count": 54,
   "metadata": {},
   "outputs": [
    {
     "data": {
      "text/plain": [
       "0.9929577464788732"
      ]
     },
     "execution_count": 54,
     "metadata": {},
     "output_type": "execute_result"
    }
   ],
   "source": [
    "# Returns the mean accuracy score of the model based on the given training data and labels\n",
    "dt_model_pipe.score(X_train, y_train)"
   ]
  },
  {
   "cell_type": "code",
   "execution_count": 55,
   "metadata": {},
   "outputs": [
    {
     "data": {
      "text/plain": [
       "0.8258426966292135"
      ]
     },
     "execution_count": 55,
     "metadata": {},
     "output_type": "execute_result"
    }
   ],
   "source": [
    "# Returns the mean accuracy score of the model based on the given testing data and labels\n",
    "dt_model_pipe.score(X_test, y_test)"
   ]
  },
  {
   "cell_type": "code",
   "execution_count": 56,
   "metadata": {},
   "outputs": [
    {
     "data": {
      "image/png": "[encoded data removed]",
      "text/plain": [
       "<Figure size 576x576 with 1 Axes>"
      ]
     },
     "metadata": {
      "needs_background": "light"
     },
     "output_type": "display_data"
    }
   ],
   "source": [
    "dt_model_pipe = ModelWithCV(\n",
    "\tdt_model_pipe,\n",
    "\tmodel_name='dt',\n",
    "\tX=X_train,\n",
    "\ty=y_train)\n",
    "\n",
    "fig, ax = plt.subplots(figsize=(8,8))\n",
    "\n",
    "dt_model_pipe.plot_cv(ax=ax);"
   ]
  },
  {
   "cell_type": "code",
   "execution_count": 57,
   "metadata": {},
   "outputs": [
    {
     "name": "stdout",
     "output_type": "stream",
     "text": [
      "Accuracy: 0.8258426966292135\n",
      "Classification Report:\n",
      "              precision    recall  f1-score   support\n",
      "\n",
      "           0       0.81      0.83      0.82        83\n",
      "           1       0.81      0.77      0.79       101\n",
      "           2       0.81      0.84      0.83        76\n",
      "           3       0.86      0.86      0.86        96\n",
      "\n",
      "    accuracy                           0.83       356\n",
      "   macro avg       0.82      0.83      0.83       356\n",
      "weighted avg       0.83      0.83      0.83       356\n",
      "\n"
     ]
    },
    {
     "data": {
      "image/png": "[encoded data removed]",
      "text/plain": [
       "<Figure size 432x288 with 2 Axes>"
      ]
     },
     "metadata": {
      "needs_background": "light"
     },
     "output_type": "display_data"
    }
   ],
   "source": [
    "# Baseline Evaluation of the model\n",
    "y_pred = dt_model_pipe.model.predict(X_test)\n",
    "accuracy = accuracy_score(y_test, y_pred)\n",
    "report = classification_report(y_test, y_pred)\n",
    "confusion_mat = confusion_matrix(y_test, y_pred)\n",
    "\n",
    "print(f'Accuracy: {accuracy}')\n",
    "print(f'Classification Report:\\n{report}')\n",
    "cm_disp = ConfusionMatrixDisplay(confusion_matrix=confusion_mat, display_labels=mood_list)\n",
    "cm_disp.plot()\n",
    "plt.show()"
   ]
  },
  {
   "attachments": {},
   "cell_type": "markdown",
   "metadata": {},
   "source": [
    "Discussion:\n",
    "- Although the decision tree model performed better than the baseline dummy model, it is likely overfitting the data and will require tuning to improve it's performance. We'll tune the model using GridSearchCV to find the optimal hyperparameters for the model IF we decide to use this model."
   ]
  },
  {
   "attachments": {},
   "cell_type": "markdown",
   "metadata": {},
   "source": [
    "#### The Gradient Boosting Model"
   ]
  },
  {
   "cell_type": "code",
   "execution_count": 58,
   "metadata": {},
   "outputs": [],
   "source": [
    "# Creates a Pipeline for the Decision Tree Model\n",
    "gb_model_pipe = Pipeline(steps = [\n",
    "\t('ct',CT),\n",
    "\t('gb', GradientBoostingClassifier())\n",
    "])"
   ]
  },
  {
   "cell_type": "code",
   "execution_count": 59,
   "metadata": {},
   "outputs": [
    {
     "data": {
      "text/plain": [
       "Pipeline(steps=[('ct',\n",
       "                 ColumnTransformer(remainder='passthrough',\n",
       "                                   transformers=[('subpipe_numerics',\n",
       "                                                  Pipeline(steps=[('ss',\n",
       "                                                                   StandardScaler())]),\n",
       "                                                  <sklearn.compose._column_transformer.make_column_selector object at 0x0000025FB0C8E6D0>)])),\n",
       "                ('gb', GradientBoostingClassifier())])"
      ]
     },
     "execution_count": 59,
     "metadata": {},
     "output_type": "execute_result"
    }
   ],
   "source": [
    "# Trains the logistic regression model\n",
    "gb_model_pipe.fit(X_train, y_train)"
   ]
  },
  {
   "cell_type": "code",
   "execution_count": 60,
   "metadata": {},
   "outputs": [
    {
     "data": {
      "text/plain": [
       "0.8676056338028169"
      ]
     },
     "execution_count": 60,
     "metadata": {},
     "output_type": "execute_result"
    }
   ],
   "source": [
    "# Returns the mean accuracy score of the model based on the given training data and labels\n",
    "gb_model_pipe.score(X_train, y_train)"
   ]
  },
  {
   "cell_type": "code",
   "execution_count": 61,
   "metadata": {},
   "outputs": [
    {
     "data": {
      "text/plain": [
       "0.7359550561797753"
      ]
     },
     "execution_count": 61,
     "metadata": {},
     "output_type": "execute_result"
    }
   ],
   "source": [
    "# Returns the mean accuracy score of the model based on the given testing data and labels\n",
    "gb_model_pipe.score(X_test, y_test)"
   ]
  },
  {
   "cell_type": "code",
   "execution_count": 62,
   "metadata": {},
   "outputs": [
    {
     "data": {
      "image/png": "[encoded data removed]",
      "text/plain": [
       "<Figure size 576x576 with 1 Axes>"
      ]
     },
     "metadata": {
      "needs_background": "light"
     },
     "output_type": "display_data"
    }
   ],
   "source": [
    "gb_model_pipe = ModelWithCV(\n",
    "\tgb_model_pipe,\n",
    "\tmodel_name='gb',\n",
    "\tX=X_train,\n",
    "\ty=y_train)\n",
    "\n",
    "fig, ax = plt.subplots(figsize=(8,8))\n",
    "\n",
    "gb_model_pipe.plot_cv(ax=ax);"
   ]
  },
  {
   "cell_type": "code",
   "execution_count": 63,
   "metadata": {},
   "outputs": [
    {
     "name": "stdout",
     "output_type": "stream",
     "text": [
      "Accuracy: 0.7359550561797753\n",
      "Classification Report:\n",
      "              precision    recall  f1-score   support\n",
      "\n",
      "           0       0.65      0.69      0.67        83\n",
      "           1       0.80      0.77      0.79       101\n",
      "           2       0.68      0.71      0.70        76\n",
      "           3       0.79      0.76      0.78        96\n",
      "\n",
      "    accuracy                           0.74       356\n",
      "   macro avg       0.73      0.73      0.73       356\n",
      "weighted avg       0.74      0.74      0.74       356\n",
      "\n"
     ]
    },
    {
     "data": {
      "image/png": "[encoded data removed]",
      "text/plain": [
       "<Figure size 432x288 with 2 Axes>"
      ]
     },
     "metadata": {
      "needs_background": "light"
     },
     "output_type": "display_data"
    }
   ],
   "source": [
    "# Baseline Evaluation of the model\n",
    "y_pred = gb_model_pipe.model.predict(X_test)\n",
    "accuracy = accuracy_score(y_test, y_pred)\n",
    "report = classification_report(y_test, y_pred)\n",
    "confusion_mat = confusion_matrix(y_test, y_pred)\n",
    "\n",
    "print(f'Accuracy: {accuracy}')\n",
    "print(f'Classification Report:\\n{report}')\n",
    "cm_disp = ConfusionMatrixDisplay(confusion_matrix=confusion_mat, display_labels=mood_list)\n",
    "cm_disp.plot()\n",
    "plt.show()"
   ]
  },
  {
   "attachments": {},
   "cell_type": "markdown",
   "metadata": {},
   "source": [
    "Discussion:\n",
    "- The gradient boosting model performed better than the baseline dummy model, but not as well as the decision tree model. We'll tune the model using GridSearchCV to find the optimal hyperparameters for the model IF we decide to use this model."
   ]
  },
  {
   "attachments": {},
   "cell_type": "markdown",
   "metadata": {},
   "source": [
    "#### The Random Forest Model"
   ]
  },
  {
   "cell_type": "code",
   "execution_count": 151,
   "metadata": {},
   "outputs": [],
   "source": [
    "# Creates a Pipeline for the Decision Tree Model\n",
    "rf_model_pipe = Pipeline(steps = [\n",
    "\t('ct',CT),\n",
    "\t('rf', RandomForestClassifier())\n",
    "])"
   ]
  },
  {
   "cell_type": "code",
   "execution_count": 146,
   "metadata": {},
   "outputs": [
    {
     "data": {
      "text/plain": [
       "Pipeline(steps=[('ct',\n",
       "                 ColumnTransformer(remainder='passthrough',\n",
       "                                   transformers=[('subpipe_numerics',\n",
       "                                                  Pipeline(steps=[('ss',\n",
       "                                                                   StandardScaler())]),\n",
       "                                                  <sklearn.compose._column_transformer.make_column_selector object at 0x0000025FB1E87E20>)])),\n",
       "                ('rf', RandomForestClassifier())])"
      ]
     },
     "execution_count": 146,
     "metadata": {},
     "output_type": "execute_result"
    }
   ],
   "source": [
    "# Trains the logistic regression model\n",
    "rf_model_pipe.fit(X_train, y_train)"
   ]
  },
  {
   "cell_type": "code",
   "execution_count": 111,
   "metadata": {},
   "outputs": [
    {
     "data": {
      "text/plain": [
       "0.9929577464788732"
      ]
     },
     "execution_count": 111,
     "metadata": {},
     "output_type": "execute_result"
    }
   ],
   "source": [
    "# Returns the mean accuracy score of the model based on the given training data and labels\n",
    "rf_model_pipe.score(X_train, y_train)"
   ]
  },
  {
   "cell_type": "code",
   "execution_count": 112,
   "metadata": {},
   "outputs": [
    {
     "data": {
      "text/plain": [
       "0.8820224719101124"
      ]
     },
     "execution_count": 112,
     "metadata": {},
     "output_type": "execute_result"
    }
   ],
   "source": [
    "# Returns the mean accuracy score of the model based on the given testing data and labels\n",
    "rf_model_pipe.score(X_test, y_test)"
   ]
  },
  {
   "cell_type": "code",
   "execution_count": 114,
   "metadata": {},
   "outputs": [
    {
     "data": {
      "image/png": "[encoded data removed]",
      "text/plain": [
       "<Figure size 576x576 with 1 Axes>"
      ]
     },
     "metadata": {
      "needs_background": "light"
     },
     "output_type": "display_data"
    }
   ],
   "source": [
    "rf_model_pipe = ModelWithCV(\n",
    "\trf_model_pipe,\n",
    "\tmodel_name='rf',\n",
    "\tX=X_train,\n",
    "\ty=y_train)\n",
    "\n",
    "fig, ax = plt.subplots(figsize=(8,8))\n",
    "\n",
    "rf_model_pipe.plot_cv(ax=ax);"
   ]
  },
  {
   "cell_type": "code",
   "execution_count": 115,
   "metadata": {},
   "outputs": [
    {
     "name": "stdout",
     "output_type": "stream",
     "text": [
      "Accuracy: 0.8820224719101124\n",
      "Classification Report:\n",
      "              precision    recall  f1-score   support\n",
      "\n",
      "           0       0.81      0.89      0.85        83\n",
      "           1       0.92      0.85      0.89       101\n",
      "           2       0.90      0.91      0.90        76\n",
      "           3       0.89      0.89      0.89        96\n",
      "\n",
      "    accuracy                           0.88       356\n",
      "   macro avg       0.88      0.88      0.88       356\n",
      "weighted avg       0.88      0.88      0.88       356\n",
      "\n"
     ]
    },
    {
     "data": {
      "image/png": "[encoded data removed]",
      "text/plain": [
       "<Figure size 432x288 with 2 Axes>"
      ]
     },
     "metadata": {
      "needs_background": "light"
     },
     "output_type": "display_data"
    }
   ],
   "source": [
    "# Baseline Evaluation of the model\n",
    "y_pred = rf_model_pipe.model.predict(X_test)\n",
    "accuracy = accuracy_score(y_test, y_pred)\n",
    "report = classification_report(y_test, y_pred)\n",
    "confusion_mat = confusion_matrix(y_test, y_pred)\n",
    "\n",
    "print(f'Accuracy: {accuracy}')\n",
    "print(f'Classification Report:\\n{report}')\n",
    "cm_disp = ConfusionMatrixDisplay(confusion_matrix=confusion_mat, display_labels=mood_list)\n",
    "cm_disp.plot()\n",
    "plt.show()"
   ]
  },
  {
   "attachments": {},
   "cell_type": "markdown",
   "metadata": {},
   "source": [
    "***Discussion of Comparison of Model Results***\n",
    "- Comparing the three models against the baseline dummy model, we can see that the random forest model performed the best, followed by the decision tree model, and then the gradiant boost model. Based on these results, we'll move forward with the random forest model and tune it using GridSearchCV to find the optimal hyperparameters for the model."
   ]
  },
  {
   "attachments": {},
   "cell_type": "markdown",
   "metadata": {},
   "source": [
    "### Iterating on the Random Forest Model\n",
    "- We've decided to move forward with the random forest model, and so we'll tune the hyperparameters of the random forest model to improve it's performance."
   ]
  },
  {
   "cell_type": "code",
   "execution_count": 152,
   "metadata": {},
   "outputs": [
    {
     "data": {
      "text/plain": [
       "Pipeline(steps=[('ct',\n",
       "                 ColumnTransformer(remainder='passthrough',\n",
       "                                   transformers=[('subpipe_numerics',\n",
       "                                                  Pipeline(steps=[('ss',\n",
       "                                                                   StandardScaler())]),\n",
       "                                                  <sklearn.compose._column_transformer.make_column_selector object at 0x0000025FB1E87E20>)])),\n",
       "                ('rf', RandomForestClassifier())])"
      ]
     },
     "execution_count": 152,
     "metadata": {},
     "output_type": "execute_result"
    }
   ],
   "source": [
    "# For Reference: The Random Forest Model\n",
    "rf_model_pipe"
   ]
  },
  {
   "attachments": {},
   "cell_type": "markdown",
   "metadata": {},
   "source": [
    "Because the ColumnTransformer is a pipeline, we can use it in a GridSearchCV object to find the best hyperparameters for our model."
   ]
  },
  {
   "attachments": {},
   "cell_type": "markdown",
   "metadata": {},
   "source": [
    "Because we're using a random forest model, we'll need to tune the hyperparameters of the model to improve it's performance. We'll use a grid search to tune the hyperparameters of the model."
   ]
  },
  {
   "cell_type": "code",
   "execution_count": 172,
   "metadata": {},
   "outputs": [],
   "source": [
    "# Creates a list of parameters to be used in the GridSearchCV. Due to the large number of parameters, and cpu and time constraints, only a few are used here. The rest are commented out for convenience.\n",
    "params = {}\n",
    "\n",
    "params['rf__n_estimators'] = [100, 200, 300, 400, 500]\n",
    "params['rf__criterion'] = ['gini', 'entropy','log_loss']\n",
    "params['rf__max_depth'] = [None, 1, 2, 3, 4, 5, 6, 7, 8, 9]\n",
    "# params['rf__min_samples_split'] = [2, 3, 4, 5, 6, 7, 8, 9, 10]\n",
    "# params['rf__min_samples_leaf'] = [1, 2, 3, 4, 5, 6, 7, 8, 9, 10]\n",
    "# params['rf__min_weight_fraction_leaf'] = [0.0, 0.1, 0.2, 0.3, 0.4, 0.5]\n",
    "# params['rf__max_features'] = ['auto', 'sqrt', 'log2']\n",
    "# params['rf__max_leaf_nodes'] = [None, 1, 2, 3, 4, 5, 6, 7, 8, 9]\n",
    "# params['rf__min_impurity_decrease'] = [0.0, 0.1, 0.2, 0.3, 0.4, 0.5]\n",
    "# params['rf__bootstrap'] = [True, False]\n",
    "# params['rf__oob_score'] = [True, False]\n",
    "# params['rf__n_jobs'] = [None, 1, 2, 3, 4, 5, 6, 7, 8, 9]\n",
    "# params['rf__random_state'] = [None, 1, 2, 3, 4, 5, 6, 7, 8, 9]\n",
    "# params['rf__verbose'] = [0, 1, 2, 3, 4, 5, 6, 7, 8, 9]\n",
    "# params['rf__warm_start'] = [True, False]\n",
    "# params['rf__class_weight'] = ['balanced', 'balanced_subsample', None]\n",
    "# params['rf__ccp_alpha'] = [0.0, 0.1, 0.2, 0.3, 0.4, 0.5]\n",
    "# params['rf__max_samples'] = [None, 1, 2, 3, 4, 5, 6, 7, 8, 9]\n"
   ]
  },
  {
   "cell_type": "code",
   "execution_count": 176,
   "metadata": {},
   "outputs": [],
   "source": [
    "gs = GridSearchCV(estimator=rf_model_pipe, param_grid=params, cv=5, verbose=1, n_jobs=-1)"
   ]
  },
  {
   "cell_type": "code",
   "execution_count": 177,
   "metadata": {},
   "outputs": [
    {
     "data": {
      "text/plain": [
       "GridSearchCV(cv=5,\n",
       "             estimator=Pipeline(steps=[('ct',\n",
       "                                        ColumnTransformer(remainder='passthrough',\n",
       "                                                          transformers=[('subpipe_numerics',\n",
       "                                                                         Pipeline(steps=[('ss',\n",
       "                                                                                          StandardScaler())]),\n",
       "                                                                         <sklearn.compose._column_transformer.make_column_selector object at 0x0000025FB1E87E20>)])),\n",
       "                                       ('rf', RandomForestClassifier())]),\n",
       "             n_jobs=-1,\n",
       "             param_grid={'rf__criterion': ['gini', 'entropy', 'log_loss'],\n",
       "                         'rf__max_depth': [None, 1, 2, 3, 4, 5, 6, 7, 8, 9],\n",
       "                         'rf__n_estimators': [100, 200, 300, 400, 500]},\n",
       "             verbose=1)"
      ]
     },
     "execution_count": 177,
     "metadata": {},
     "output_type": "execute_result"
    }
   ],
   "source": [
    "gs"
   ]
  },
  {
   "cell_type": "code",
   "execution_count": 178,
   "metadata": {},
   "outputs": [
    {
     "name": "stdout",
     "output_type": "stream",
     "text": [
      "Fitting 5 folds for each of 150 candidates, totalling 750 fits\n"
     ]
    },
    {
     "name": "stderr",
     "output_type": "stream",
     "text": [
      "[Parallel(n_jobs=-1)]: Using backend LokyBackend with 24 concurrent workers.\n",
      "[Parallel(n_jobs=-1)]: Done   2 tasks      | elapsed:    2.9s\n",
      "[Parallel(n_jobs=-1)]: Done 152 tasks      | elapsed:    6.9s\n",
      "[Parallel(n_jobs=-1)]: Done 402 tasks      | elapsed:   14.8s\n",
      "[Parallel(n_jobs=-1)]: Done 750 out of 750 | elapsed:   20.4s finished\n"
     ]
    },
    {
     "data": {
      "text/plain": [
       "GridSearchCV(cv=5,\n",
       "             estimator=Pipeline(steps=[('ct',\n",
       "                                        ColumnTransformer(remainder='passthrough',\n",
       "                                                          transformers=[('subpipe_numerics',\n",
       "                                                                         Pipeline(steps=[('ss',\n",
       "                                                                                          StandardScaler())]),\n",
       "                                                                         <sklearn.compose._column_transformer.make_column_selector object at 0x0000025FB1E87E20>)])),\n",
       "                                       ('rf', RandomForestClassifier())]),\n",
       "             n_jobs=-1,\n",
       "             param_grid={'rf__criterion': ['gini', 'entropy', 'log_loss'],\n",
       "                         'rf__max_depth': [None, 1, 2, 3, 4, 5, 6, 7, 8, 9],\n",
       "                         'rf__n_estimators': [100, 200, 300, 400, 500]},\n",
       "             verbose=1)"
      ]
     },
     "execution_count": 178,
     "metadata": {},
     "output_type": "execute_result"
    }
   ],
   "source": [
    "gs.fit(X_train, y_train)"
   ]
  },
  {
   "cell_type": "code",
   "execution_count": 179,
   "metadata": {},
   "outputs": [
    {
     "data": {
      "text/plain": [
       "{'rf__criterion': 'entropy', 'rf__max_depth': None, 'rf__n_estimators': 300}"
      ]
     },
     "execution_count": 179,
     "metadata": {},
     "output_type": "execute_result"
    }
   ],
   "source": [
    "gs.best_params_"
   ]
  },
  {
   "cell_type": "code",
   "execution_count": 180,
   "metadata": {},
   "outputs": [
    {
     "data": {
      "text/plain": [
       "Pipeline(steps=[('ct',\n",
       "                 ColumnTransformer(remainder='passthrough',\n",
       "                                   transformers=[('subpipe_numerics',\n",
       "                                                  Pipeline(steps=[('ss',\n",
       "                                                                   StandardScaler())]),\n",
       "                                                  <sklearn.compose._column_transformer.make_column_selector object at 0x0000025FB3057790>)])),\n",
       "                ('rf',\n",
       "                 RandomForestClassifier(criterion='entropy',\n",
       "                                        n_estimators=300))])"
      ]
     },
     "execution_count": 180,
     "metadata": {},
     "output_type": "execute_result"
    }
   ],
   "source": [
    "gs.best_estimator_"
   ]
  },
  {
   "cell_type": "code",
   "execution_count": 181,
   "metadata": {},
   "outputs": [
    {
     "data": {
      "image/png": "[encoded data removed]",
      "text/plain": [
       "<Figure size 576x576 with 1 Axes>"
      ]
     },
     "metadata": {
      "needs_background": "light"
     },
     "output_type": "display_data"
    }
   ],
   "source": [
    "gs_pipe = ModelWithCV(\n",
    "    gs.best_estimator_,\n",
    "    model_name='gs',\n",
    "    X=X_train,\n",
    "    y=y_train)\n",
    "fig, ax = plt.subplots(figsize=(8,8))\n",
    "\n",
    "gs_pipe.plot_cv(ax=ax);"
   ]
  },
  {
   "cell_type": "code",
   "execution_count": 182,
   "metadata": {},
   "outputs": [
    {
     "name": "stdout",
     "output_type": "stream",
     "text": [
      "Accuracy: 0.8764044943820225\n",
      "Classification Report:\n",
      "              precision    recall  f1-score   support\n",
      "\n",
      "           0       0.81      0.86      0.83        83\n",
      "           1       0.89      0.86      0.87       101\n",
      "           2       0.88      0.91      0.90        76\n",
      "           3       0.92      0.89      0.90        96\n",
      "\n",
      "    accuracy                           0.88       356\n",
      "   macro avg       0.88      0.88      0.88       356\n",
      "weighted avg       0.88      0.88      0.88       356\n",
      "\n"
     ]
    },
    {
     "data": {
      "image/png": "[encoded data removed]",
      "text/plain": [
       "<Figure size 432x288 with 2 Axes>"
      ]
     },
     "metadata": {
      "needs_background": "light"
     },
     "output_type": "display_data"
    }
   ],
   "source": [
    "# Tuned Evaluation of the model\n",
    "y_pred = gs_pipe.model.predict(X_test)\n",
    "accuracy = accuracy_score(y_test, y_pred)\n",
    "report = classification_report(y_test, y_pred)\n",
    "confusion_mat = confusion_matrix(y_test, y_pred)\n",
    "\n",
    "print(f'Accuracy: {accuracy}')\n",
    "print(f'Classification Report:\\n{report}')\n",
    "cm_disp = ConfusionMatrixDisplay(confusion_matrix=confusion_mat, display_labels=mood_list)\n",
    "cm_disp.plot()\n",
    "plt.show()"
   ]
  },
  {
   "attachments": {},
   "cell_type": "markdown",
   "metadata": {},
   "source": [
    "## Evaluation\n",
    "\n",
    "The baseline dummy model had an accuracy score of 0.25, meaning that the model correctly predicted the dominant mood of a song only 25% of the time. The baseline random forest model had an accuracy score of 0.88, meaning that the model correctly predicted the dominant mood of a song 88% of the time. Because the baseline random forest model performed better than any of the other models, the author moved forward with the random forest model. After tuning the hyperparameters of the random forest model further, an accuracy score of 0.89 was achieved, meaning that the model correctly predicted the dominant mood of a song 89% of the time."
   ]
  },
  {
   "attachments": {},
   "cell_type": "markdown",
   "metadata": {},
   "source": [
    "## Conclusions\n",
    "Based on the analysis, the author recommends the use of audio feature data to predict the dominant mood of a song. Due to the ease and accuracy of detecting the dominant mood of a song based on its audio features, the author recommends that Spotify integrate a mood detection model into their current recommendation system to allow users to request music based on their current mood. Limitations of the study include the use of user-generated tags to determine the dominant mood of a song, and the use of audio features that are proprietary to the Spotify API. Future work could include the use of a larger dataset, more audio features included in the analysis, the inclusion of more mood classes, sentiment analysis of song lyrics to strengthen model accuracy, and the use of a more robust model."
   ]
  }
 ],
 "metadata": {
  "kernelspec": {
   "display_name": "learn-env",
   "language": "python",
   "name": "python3"
  },
  "language_info": {
   "codemirror_mode": {
    "name": "ipython",
    "version": 3
   },
   "file_extension": ".py",
   "mimetype": "text/x-python",
   "name": "python",
   "nbconvert_exporter": "python",
   "pygments_lexer": "ipython3",
   "version": "3.8.5"
  },
  "orig_nbformat": 4
 },
 "nbformat": 4,
 "nbformat_minor": 2
}
