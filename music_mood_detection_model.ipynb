{
 "cells": [
  {
   "attachments": {},
   "cell_type": "markdown",
   "metadata": {},
   "source": [
    "![Picture](images/)"
   ]
  },
  {
   "attachments": {},
   "cell_type": "markdown",
   "metadata": {},
   "source": [
    "# Music Mood Detection Using Spotify Audio Features\n",
    "\n",
    "**Authors:** James Meredith\n",
    "***"
   ]
  },
  {
   "attachments": {},
   "cell_type": "markdown",
   "metadata": {},
   "source": [
    "## Overview\n",
    "\n",
    "The purpose of this Data Science project was to develop an automated Machine Learning model for detections of a song's dominant mood based on it's audio features. Ultimately the use case for this project would be to pitch a new feature to Spotify where users can say \"Hey Spotify, I'm feeling sad. Play me something sad\" and then spotify would play them a song that's emotion is coded as sad. In terms of the project, ultimately I'm predicting that audio features of a song like it's key, rhythm, etc. will be highly correlated with it's dominant mood, and would be using the various audio features to run a logistic regression and compare it to decision trees. Audio features were derived from the Spotify API, and mood/emotion data was compiled using user-generated tags from Last.FM.\n"
   ]
  },
  {
   "attachments": {},
   "cell_type": "markdown",
   "metadata": {},
   "source": [
    "## Business Problem\n",
    "\n",
    "Spotify currently offers a robust recommendation system whereby users receive recommendations for music they might like based on their past listening habits. However, Spotify does not currently offer a feature whereby users can request music based on their current mood. The purpose of this project is to develop a model that can predict the dominant mood of a song based on it's audio features, and then to use that model to develop a recommendation system for users to request music based on their current mood.\n",
    "\n",
    "***\n",
    "Questions to consider:\n",
    "* What are the business's pain points related to this project?\n",
    "* How did you pick the data analysis question(s) that you did?\n",
    "* Why are these questions important from a business perspective?\n",
    "***"
   ]
  },
  {
   "attachments": {},
   "cell_type": "markdown",
   "metadata": {},
   "source": [
    "## Data\n",
    "\n",
    "Song data was compiled using a dataset derived from the Spotify API, and included audio features such as track key, loudness, danceability, and valence. Emotion meta-data was compiled using user-generated tags from Last.FM, and then was sorted and aggregated into four broad categories (happy, sad, angry, relaxed). The data was then cleaned and merged into a single dataframe for analysis.\n",
    "***\n",
    "Questions to consider:\n",
    "* Where did the data come from, and how do they relate to the data analysis questions?\n",
    "* What do the data represent? Who is in the sample and what variables are included?\n",
    "* What is the target variable?\n",
    "* What are the properties of the variables you intend to use?\n",
    "***"
   ]
  },
  {
   "cell_type": "code",
   "execution_count": 59,
   "metadata": {},
   "outputs": [],
   "source": [
    "import numpy as np\n",
    "import pandas as pd\n",
    "import matplotlib.pyplot as plt\n",
    "import seaborn as sns\n",
    "\n",
    "from sklearn.model_selection import train_test_split,GridSearchCV,cross_val_score\n",
    "from sklearn.pipeline import Pipeline\n",
    "from sklearn.pipeline import Pipeline as ImPipeline\n",
    "from sklearn.preprocessing import StandardScaler,OneHotEncoder,FunctionTransformer\n",
    "from sklearn.impute import SimpleImputer\n",
    "\n",
    "from sklearn.compose import ColumnTransformer, make_column_selector as selector\n",
    "from sklearn.dummy import DummyClassifier\n",
    "from sklearn.linear_model import LogisticRegression\n",
    "from sklearn.tree import DecisionTreeClassifier\n",
    "\n",
    "from sklearn.metrics import accuracy_score, classification_report, confusion_matrix, ConfusionMatrixDisplay\n",
    "from sklearn.datasets import make_classification\n",
    "from sklearn.svm import SVC\n",
    "# import re\n",
    "# import spotipy\n",
    "# from spotipy.oauth2 import SpotifyClientCredentials\n",
    "# import spotifyusercredentials\n",
    "\n",
    "# # Spotify API Authentication (with separate user credentials)\n",
    "# client_credentials_manager = SpotifyClientCredentials(client_id=spotifyusercredentials.client_ID, client_secret=spotifyusercredentials.client_SECRET)\n",
    "# sp = spotipy.Spotify(client_credentials_manager = client_credentials_manager)"
   ]
  },
  {
   "cell_type": "code",
   "execution_count": 60,
   "metadata": {},
   "outputs": [],
   "source": [
    "# Loads the dataset\n",
    "df = pd.read_csv('./data/f1combfinal2.csv')"
   ]
  },
  {
   "cell_type": "code",
   "execution_count": 61,
   "metadata": {},
   "outputs": [
    {
     "data": {
      "text/html": [
       "<div>\n",
       "<style scoped>\n",
       "    .dataframe tbody tr th:only-of-type {\n",
       "        vertical-align: middle;\n",
       "    }\n",
       "\n",
       "    .dataframe tbody tr th {\n",
       "        vertical-align: top;\n",
       "    }\n",
       "\n",
       "    .dataframe thead th {\n",
       "        text-align: right;\n",
       "    }\n",
       "</style>\n",
       "<table border=\"1\" class=\"dataframe\">\n",
       "  <thead>\n",
       "    <tr style=\"text-align: right;\">\n",
       "      <th></th>\n",
       "      <th>f_name</th>\n",
       "      <th>a_name</th>\n",
       "      <th>title</th>\n",
       "      <th>lyrics</th>\n",
       "      <th>spot_id</th>\n",
       "      <th>sr_json</th>\n",
       "      <th>tempo</th>\n",
       "      <th>energy</th>\n",
       "      <th>danceability</th>\n",
       "      <th>loudness</th>\n",
       "      <th>valence</th>\n",
       "      <th>acousticness</th>\n",
       "      <th>tr_json</th>\n",
       "      <th>mood</th>\n",
       "    </tr>\n",
       "  </thead>\n",
       "  <tbody>\n",
       "    <tr>\n",
       "      <th>0</th>\n",
       "      <td>angry_all/50 Ft Queenie.mp3</td>\n",
       "      <td>PJ Harvey</td>\n",
       "      <td>50 Ft Queenie</td>\n",
       "      <td>Hey I'm one big queen  No one can stop me Red ...</td>\n",
       "      <td>3fJprjhRxTVtOp18EHdNfu</td>\n",
       "      <td>{\\n \"tracks\": {\\n  \"href\": \"https://api.spotif...</td>\n",
       "      <td>126.366</td>\n",
       "      <td>0.667</td>\n",
       "      <td>0.382</td>\n",
       "      <td>-16.077</td>\n",
       "      <td>0.718</td>\n",
       "      <td>0.000652</td>\n",
       "      <td>{\\n \"acousticness\": 0.000652,\\n \"analysis_url\"...</td>\n",
       "      <td>1</td>\n",
       "    </tr>\n",
       "    <tr>\n",
       "      <th>1</th>\n",
       "      <td>angry_all/A Bad Dream.mp3</td>\n",
       "      <td>Keane</td>\n",
       "      <td>A Bad Dream</td>\n",
       "      <td>Why do I have to fly over every town up and do...</td>\n",
       "      <td>17ScnUBsr3CgfJGd7k0kAZ</td>\n",
       "      <td>{\\n \"tracks\": {\\n  \"href\": \"https://api.spotif...</td>\n",
       "      <td>145.035</td>\n",
       "      <td>0.760</td>\n",
       "      <td>0.405</td>\n",
       "      <td>-4.852</td>\n",
       "      <td>0.316</td>\n",
       "      <td>0.008240</td>\n",
       "      <td>{\\n \"acousticness\": 0.00824,\\n \"analysis_url\":...</td>\n",
       "      <td>1</td>\n",
       "    </tr>\n",
       "    <tr>\n",
       "      <th>2</th>\n",
       "      <td>angry_all/Agenda Suicide (Jagz Kooner Remix).mp3</td>\n",
       "      <td>The Faint</td>\n",
       "      <td>Agenda Suicide</td>\n",
       "      <td>You could follow logic Or contest it all The w...</td>\n",
       "      <td>4Mhj9IjSxTOOWGCS5MbBG4</td>\n",
       "      <td>{\\n \"tracks\": {\\n  \"href\": \"https://api.spotif...</td>\n",
       "      <td>144.585</td>\n",
       "      <td>0.703</td>\n",
       "      <td>0.574</td>\n",
       "      <td>-7.789</td>\n",
       "      <td>0.275</td>\n",
       "      <td>0.006580</td>\n",
       "      <td>{\\n \"acousticness\": 0.00658,\\n \"analysis_url\":...</td>\n",
       "      <td>1</td>\n",
       "    </tr>\n",
       "    <tr>\n",
       "      <th>3</th>\n",
       "      <td>angry_all/Alternative Ulster.mp3</td>\n",
       "      <td>Stiff Little Fingers</td>\n",
       "      <td>Alternative Ulster</td>\n",
       "      <td>There's nothin' for us in Belfast The Pound's ...</td>\n",
       "      <td>0MDJjySh4ydA8CyFVkcFQh</td>\n",
       "      <td>{\\n \"tracks\": {\\n  \"href\": \"https://api.spotif...</td>\n",
       "      <td>118.181</td>\n",
       "      <td>0.925</td>\n",
       "      <td>0.600</td>\n",
       "      <td>-9.148</td>\n",
       "      <td>0.382</td>\n",
       "      <td>0.008820</td>\n",
       "      <td>{\\n \"acousticness\": 0.00882,\\n \"analysis_url\":...</td>\n",
       "      <td>1</td>\n",
       "    </tr>\n",
       "    <tr>\n",
       "      <th>4</th>\n",
       "      <td>angry_all/Animal Instinct.mp3</td>\n",
       "      <td>The Cranberries</td>\n",
       "      <td>Animal Instinct</td>\n",
       "      <td>Suddenly something has happened to me As I was...</td>\n",
       "      <td>3J58Ccc5iTbCRnYx2xjo6d</td>\n",
       "      <td>{\\n \"tracks\": {\\n  \"href\": \"https://api.spotif...</td>\n",
       "      <td>132.145</td>\n",
       "      <td>0.823</td>\n",
       "      <td>0.622</td>\n",
       "      <td>-5.381</td>\n",
       "      <td>0.605</td>\n",
       "      <td>0.094600</td>\n",
       "      <td>{\\n \"acousticness\": 0.0946,\\n \"analysis_url\": ...</td>\n",
       "      <td>1</td>\n",
       "    </tr>\n",
       "  </tbody>\n",
       "</table>\n",
       "</div>"
      ],
      "text/plain": [
       "                                             f_name                a_name  \\\n",
       "0                       angry_all/50 Ft Queenie.mp3             PJ Harvey   \n",
       "1                         angry_all/A Bad Dream.mp3                 Keane   \n",
       "2  angry_all/Agenda Suicide (Jagz Kooner Remix).mp3             The Faint   \n",
       "3                  angry_all/Alternative Ulster.mp3  Stiff Little Fingers   \n",
       "4                     angry_all/Animal Instinct.mp3       The Cranberries   \n",
       "\n",
       "                title                                             lyrics  \\\n",
       "0       50 Ft Queenie  Hey I'm one big queen  No one can stop me Red ...   \n",
       "1         A Bad Dream  Why do I have to fly over every town up and do...   \n",
       "2     Agenda Suicide   You could follow logic Or contest it all The w...   \n",
       "3  Alternative Ulster  There's nothin' for us in Belfast The Pound's ...   \n",
       "4     Animal Instinct  Suddenly something has happened to me As I was...   \n",
       "\n",
       "                  spot_id                                            sr_json  \\\n",
       "0  3fJprjhRxTVtOp18EHdNfu  {\\n \"tracks\": {\\n  \"href\": \"https://api.spotif...   \n",
       "1  17ScnUBsr3CgfJGd7k0kAZ  {\\n \"tracks\": {\\n  \"href\": \"https://api.spotif...   \n",
       "2  4Mhj9IjSxTOOWGCS5MbBG4  {\\n \"tracks\": {\\n  \"href\": \"https://api.spotif...   \n",
       "3  0MDJjySh4ydA8CyFVkcFQh  {\\n \"tracks\": {\\n  \"href\": \"https://api.spotif...   \n",
       "4  3J58Ccc5iTbCRnYx2xjo6d  {\\n \"tracks\": {\\n  \"href\": \"https://api.spotif...   \n",
       "\n",
       "     tempo  energy  danceability  loudness  valence  acousticness  \\\n",
       "0  126.366   0.667         0.382   -16.077    0.718      0.000652   \n",
       "1  145.035   0.760         0.405    -4.852    0.316      0.008240   \n",
       "2  144.585   0.703         0.574    -7.789    0.275      0.006580   \n",
       "3  118.181   0.925         0.600    -9.148    0.382      0.008820   \n",
       "4  132.145   0.823         0.622    -5.381    0.605      0.094600   \n",
       "\n",
       "                                             tr_json  mood  \n",
       "0  {\\n \"acousticness\": 0.000652,\\n \"analysis_url\"...     1  \n",
       "1  {\\n \"acousticness\": 0.00824,\\n \"analysis_url\":...     1  \n",
       "2  {\\n \"acousticness\": 0.00658,\\n \"analysis_url\":...     1  \n",
       "3  {\\n \"acousticness\": 0.00882,\\n \"analysis_url\":...     1  \n",
       "4  {\\n \"acousticness\": 0.0946,\\n \"analysis_url\": ...     1  "
      ]
     },
     "execution_count": 61,
     "metadata": {},
     "output_type": "execute_result"
    }
   ],
   "source": [
    "# Views the dataset\n",
    "df.head()"
   ]
  },
  {
   "cell_type": "code",
   "execution_count": 62,
   "metadata": {},
   "outputs": [
    {
     "name": "stdout",
     "output_type": "stream",
     "text": [
      "<class 'pandas.core.frame.DataFrame'>\n",
      "RangeIndex: 1776 entries, 0 to 1775\n",
      "Data columns (total 14 columns):\n",
      " #   Column        Non-Null Count  Dtype  \n",
      "---  ------        --------------  -----  \n",
      " 0   f_name        1776 non-null   object \n",
      " 1   a_name        1776 non-null   object \n",
      " 2   title         1776 non-null   object \n",
      " 3   lyrics        1776 non-null   object \n",
      " 4   spot_id       1776 non-null   object \n",
      " 5   sr_json       1776 non-null   object \n",
      " 6   tempo         1776 non-null   float64\n",
      " 7   energy        1776 non-null   float64\n",
      " 8   danceability  1776 non-null   float64\n",
      " 9   loudness      1776 non-null   float64\n",
      " 10  valence       1776 non-null   float64\n",
      " 11  acousticness  1776 non-null   float64\n",
      " 12  tr_json       1776 non-null   object \n",
      " 13  mood          1776 non-null   int64  \n",
      "dtypes: float64(6), int64(1), object(7)\n",
      "memory usage: 194.4+ KB\n"
     ]
    }
   ],
   "source": [
    "# Views and overview of the dataset\n",
    "df.info()"
   ]
  },
  {
   "cell_type": "code",
   "execution_count": 63,
   "metadata": {},
   "outputs": [
    {
     "data": {
      "text/html": [
       "<div>\n",
       "<style scoped>\n",
       "    .dataframe tbody tr th:only-of-type {\n",
       "        vertical-align: middle;\n",
       "    }\n",
       "\n",
       "    .dataframe tbody tr th {\n",
       "        vertical-align: top;\n",
       "    }\n",
       "\n",
       "    .dataframe thead th {\n",
       "        text-align: right;\n",
       "    }\n",
       "</style>\n",
       "<table border=\"1\" class=\"dataframe\">\n",
       "  <thead>\n",
       "    <tr style=\"text-align: right;\">\n",
       "      <th></th>\n",
       "      <th>tempo</th>\n",
       "      <th>energy</th>\n",
       "      <th>danceability</th>\n",
       "      <th>loudness</th>\n",
       "      <th>valence</th>\n",
       "      <th>acousticness</th>\n",
       "      <th>mood</th>\n",
       "    </tr>\n",
       "  </thead>\n",
       "  <tbody>\n",
       "    <tr>\n",
       "      <th>count</th>\n",
       "      <td>1776.000000</td>\n",
       "      <td>1776.000000</td>\n",
       "      <td>1776.000000</td>\n",
       "      <td>1776.000000</td>\n",
       "      <td>1776.000000</td>\n",
       "      <td>1776.000000</td>\n",
       "      <td>1776.000000</td>\n",
       "    </tr>\n",
       "    <tr>\n",
       "      <th>mean</th>\n",
       "      <td>125.065478</td>\n",
       "      <td>0.637407</td>\n",
       "      <td>0.515200</td>\n",
       "      <td>-8.658334</td>\n",
       "      <td>0.459322</td>\n",
       "      <td>0.257100</td>\n",
       "      <td>1.495495</td>\n",
       "    </tr>\n",
       "    <tr>\n",
       "      <th>std</th>\n",
       "      <td>29.567663</td>\n",
       "      <td>0.257511</td>\n",
       "      <td>0.163382</td>\n",
       "      <td>4.052949</td>\n",
       "      <td>0.254182</td>\n",
       "      <td>0.320999</td>\n",
       "      <td>1.114808</td>\n",
       "    </tr>\n",
       "    <tr>\n",
       "      <th>min</th>\n",
       "      <td>38.802000</td>\n",
       "      <td>0.016400</td>\n",
       "      <td>0.078600</td>\n",
       "      <td>-28.043000</td>\n",
       "      <td>0.033100</td>\n",
       "      <td>0.000002</td>\n",
       "      <td>0.000000</td>\n",
       "    </tr>\n",
       "    <tr>\n",
       "      <th>25%</th>\n",
       "      <td>102.911000</td>\n",
       "      <td>0.439000</td>\n",
       "      <td>0.413750</td>\n",
       "      <td>-10.843750</td>\n",
       "      <td>0.241750</td>\n",
       "      <td>0.003845</td>\n",
       "      <td>1.000000</td>\n",
       "    </tr>\n",
       "    <tr>\n",
       "      <th>50%</th>\n",
       "      <td>123.687000</td>\n",
       "      <td>0.675500</td>\n",
       "      <td>0.519000</td>\n",
       "      <td>-7.942500</td>\n",
       "      <td>0.429000</td>\n",
       "      <td>0.074100</td>\n",
       "      <td>1.000000</td>\n",
       "    </tr>\n",
       "    <tr>\n",
       "      <th>75%</th>\n",
       "      <td>142.341000</td>\n",
       "      <td>0.860000</td>\n",
       "      <td>0.619250</td>\n",
       "      <td>-5.515500</td>\n",
       "      <td>0.675000</td>\n",
       "      <td>0.494500</td>\n",
       "      <td>2.000000</td>\n",
       "    </tr>\n",
       "    <tr>\n",
       "      <th>max</th>\n",
       "      <td>207.673000</td>\n",
       "      <td>0.999000</td>\n",
       "      <td>0.966000</td>\n",
       "      <td>-1.017000</td>\n",
       "      <td>0.986000</td>\n",
       "      <td>0.994000</td>\n",
       "      <td>3.000000</td>\n",
       "    </tr>\n",
       "  </tbody>\n",
       "</table>\n",
       "</div>"
      ],
      "text/plain": [
       "             tempo       energy  danceability     loudness      valence  \\\n",
       "count  1776.000000  1776.000000   1776.000000  1776.000000  1776.000000   \n",
       "mean    125.065478     0.637407      0.515200    -8.658334     0.459322   \n",
       "std      29.567663     0.257511      0.163382     4.052949     0.254182   \n",
       "min      38.802000     0.016400      0.078600   -28.043000     0.033100   \n",
       "25%     102.911000     0.439000      0.413750   -10.843750     0.241750   \n",
       "50%     123.687000     0.675500      0.519000    -7.942500     0.429000   \n",
       "75%     142.341000     0.860000      0.619250    -5.515500     0.675000   \n",
       "max     207.673000     0.999000      0.966000    -1.017000     0.986000   \n",
       "\n",
       "       acousticness         mood  \n",
       "count   1776.000000  1776.000000  \n",
       "mean       0.257100     1.495495  \n",
       "std        0.320999     1.114808  \n",
       "min        0.000002     0.000000  \n",
       "25%        0.003845     1.000000  \n",
       "50%        0.074100     1.000000  \n",
       "75%        0.494500     2.000000  \n",
       "max        0.994000     3.000000  "
      ]
     },
     "execution_count": 63,
     "metadata": {},
     "output_type": "execute_result"
    }
   ],
   "source": [
    "# Description of the numeric data\n",
    "df.describe()"
   ]
  },
  {
   "cell_type": "code",
   "execution_count": 64,
   "metadata": {},
   "outputs": [
    {
     "data": {
      "text/plain": [
       "0    0.246622\n",
       "1    0.260698\n",
       "2    0.243243\n",
       "3    0.249437\n",
       "Name: mood, dtype: float64"
      ]
     },
     "execution_count": 64,
     "metadata": {},
     "output_type": "execute_result"
    }
   ],
   "source": [
    "# Views the balance of the mood classes\n",
    "# Mood codes for the dataset are as follows: 0:'Happy', 1:'Angry', 2:'Sad', 3:'Relaxed'\n",
    "df['mood'].value_counts(normalize=True).sort_index()"
   ]
  },
  {
   "attachments": {},
   "cell_type": "markdown",
   "metadata": {},
   "source": [
    "**Discussion: The data at a glance**\n",
    "- We can note that the initial balance of each mood class is quite good as we have a good amount of data for each mood"
   ]
  },
  {
   "attachments": {},
   "cell_type": "markdown",
   "metadata": {},
   "source": [
    "**Limitations of the data:**\n",
    "- We're using the Spotify API to pull audio features for each song. This is a limitation because it's somewhat opaque how each audio feature is calculated, and it's possible that the audio features are not representative of the actual audio features of the song.\n",
    "- We're using user-generated tags from Last.FM to determine the dominant mood of a song. This is a limitation because it's possible that the tags are not accurate, or that the tags are not representative of the dominant mood of the song.\n"
   ]
  },
  {
   "attachments": {},
   "cell_type": "markdown",
   "metadata": {},
   "source": [
    "## Data Preparation\n",
    "\n",
    "Justification of features included based on their properties and relevance to the project.\n",
    "\n",
    "Describe and justify the process for preparing the data for analysis.\n",
    "\n",
    "***\n",
    "Questions to consider:\n",
    "* Were there variables you dropped or created?\n",
    "* How did you address missing values or outliers?\n",
    "* Why are these choices appropriate given the data and the business problem?\n",
    "***"
   ]
  },
  {
   "cell_type": "code",
   "execution_count": 65,
   "metadata": {},
   "outputs": [],
   "source": [
    "# Creates of list of the mood classes\n",
    "# Mood codes for the dataset are as follows: 0:'Happy', 1:'Angry', 2:'Sad', 3:'Relaxed'\n",
    "mood_list = ['Happy', 'Angry', 'Sad', 'Relaxed']"
   ]
  },
  {
   "attachments": {},
   "cell_type": "markdown",
   "metadata": {},
   "source": [
    "Justification of dropping non-numeric features."
   ]
  },
  {
   "cell_type": "code",
   "execution_count": 66,
   "metadata": {},
   "outputs": [],
   "source": [
    "# Preparing columns to drop out of X\n",
    "columns_to_drop=df.columns[0:6].tolist()\n",
    "columns_to_drop.append(df.columns[-2])\n",
    "columns_to_drop.append(df.columns[-1])"
   ]
  },
  {
   "attachments": {},
   "cell_type": "markdown",
   "metadata": {},
   "source": [
    "### Performing the Initial Train-Test Split"
   ]
  },
  {
   "cell_type": "code",
   "execution_count": 67,
   "metadata": {},
   "outputs": [],
   "source": [
    "# Splits the dataset into training and testing sets\n",
    "X = df.drop(columns_to_drop, axis=1)  # Features\n",
    "y = df['mood']  # Emotion labels\n",
    "X_train, X_test, y_train, y_test = train_test_split(X, y, test_size=0.2, random_state=42)"
   ]
  },
  {
   "cell_type": "code",
   "execution_count": 68,
   "metadata": {},
   "outputs": [
    {
     "data": {
      "text/html": [
       "<div>\n",
       "<style scoped>\n",
       "    .dataframe tbody tr th:only-of-type {\n",
       "        vertical-align: middle;\n",
       "    }\n",
       "\n",
       "    .dataframe tbody tr th {\n",
       "        vertical-align: top;\n",
       "    }\n",
       "\n",
       "    .dataframe thead th {\n",
       "        text-align: right;\n",
       "    }\n",
       "</style>\n",
       "<table border=\"1\" class=\"dataframe\">\n",
       "  <thead>\n",
       "    <tr style=\"text-align: right;\">\n",
       "      <th></th>\n",
       "      <th>tempo</th>\n",
       "      <th>energy</th>\n",
       "      <th>danceability</th>\n",
       "      <th>loudness</th>\n",
       "      <th>valence</th>\n",
       "      <th>acousticness</th>\n",
       "    </tr>\n",
       "  </thead>\n",
       "  <tbody>\n",
       "    <tr>\n",
       "      <th>0</th>\n",
       "      <td>126.366</td>\n",
       "      <td>0.667</td>\n",
       "      <td>0.382</td>\n",
       "      <td>-16.077</td>\n",
       "      <td>0.718</td>\n",
       "      <td>0.000652</td>\n",
       "    </tr>\n",
       "    <tr>\n",
       "      <th>1</th>\n",
       "      <td>145.035</td>\n",
       "      <td>0.760</td>\n",
       "      <td>0.405</td>\n",
       "      <td>-4.852</td>\n",
       "      <td>0.316</td>\n",
       "      <td>0.008240</td>\n",
       "    </tr>\n",
       "    <tr>\n",
       "      <th>2</th>\n",
       "      <td>144.585</td>\n",
       "      <td>0.703</td>\n",
       "      <td>0.574</td>\n",
       "      <td>-7.789</td>\n",
       "      <td>0.275</td>\n",
       "      <td>0.006580</td>\n",
       "    </tr>\n",
       "    <tr>\n",
       "      <th>3</th>\n",
       "      <td>118.181</td>\n",
       "      <td>0.925</td>\n",
       "      <td>0.600</td>\n",
       "      <td>-9.148</td>\n",
       "      <td>0.382</td>\n",
       "      <td>0.008820</td>\n",
       "    </tr>\n",
       "    <tr>\n",
       "      <th>4</th>\n",
       "      <td>132.145</td>\n",
       "      <td>0.823</td>\n",
       "      <td>0.622</td>\n",
       "      <td>-5.381</td>\n",
       "      <td>0.605</td>\n",
       "      <td>0.094600</td>\n",
       "    </tr>\n",
       "    <tr>\n",
       "      <th>...</th>\n",
       "      <td>...</td>\n",
       "      <td>...</td>\n",
       "      <td>...</td>\n",
       "      <td>...</td>\n",
       "      <td>...</td>\n",
       "      <td>...</td>\n",
       "    </tr>\n",
       "    <tr>\n",
       "      <th>1771</th>\n",
       "      <td>136.924</td>\n",
       "      <td>0.286</td>\n",
       "      <td>0.434</td>\n",
       "      <td>-10.803</td>\n",
       "      <td>0.122</td>\n",
       "      <td>0.533000</td>\n",
       "    </tr>\n",
       "    <tr>\n",
       "      <th>1772</th>\n",
       "      <td>137.928</td>\n",
       "      <td>0.605</td>\n",
       "      <td>0.536</td>\n",
       "      <td>-6.231</td>\n",
       "      <td>0.156</td>\n",
       "      <td>0.129000</td>\n",
       "    </tr>\n",
       "    <tr>\n",
       "      <th>1773</th>\n",
       "      <td>122.979</td>\n",
       "      <td>0.137</td>\n",
       "      <td>0.424</td>\n",
       "      <td>-15.580</td>\n",
       "      <td>0.288</td>\n",
       "      <td>0.909000</td>\n",
       "    </tr>\n",
       "    <tr>\n",
       "      <th>1774</th>\n",
       "      <td>190.714</td>\n",
       "      <td>0.285</td>\n",
       "      <td>0.326</td>\n",
       "      <td>-9.377</td>\n",
       "      <td>0.455</td>\n",
       "      <td>0.841000</td>\n",
       "    </tr>\n",
       "    <tr>\n",
       "      <th>1775</th>\n",
       "      <td>89.994</td>\n",
       "      <td>0.728</td>\n",
       "      <td>0.387</td>\n",
       "      <td>-10.639</td>\n",
       "      <td>0.112</td>\n",
       "      <td>0.000178</td>\n",
       "    </tr>\n",
       "  </tbody>\n",
       "</table>\n",
       "<p>1776 rows × 6 columns</p>\n",
       "</div>"
      ],
      "text/plain": [
       "        tempo  energy  danceability  loudness  valence  acousticness\n",
       "0     126.366   0.667         0.382   -16.077    0.718      0.000652\n",
       "1     145.035   0.760         0.405    -4.852    0.316      0.008240\n",
       "2     144.585   0.703         0.574    -7.789    0.275      0.006580\n",
       "3     118.181   0.925         0.600    -9.148    0.382      0.008820\n",
       "4     132.145   0.823         0.622    -5.381    0.605      0.094600\n",
       "...       ...     ...           ...       ...      ...           ...\n",
       "1771  136.924   0.286         0.434   -10.803    0.122      0.533000\n",
       "1772  137.928   0.605         0.536    -6.231    0.156      0.129000\n",
       "1773  122.979   0.137         0.424   -15.580    0.288      0.909000\n",
       "1774  190.714   0.285         0.326    -9.377    0.455      0.841000\n",
       "1775   89.994   0.728         0.387   -10.639    0.112      0.000178\n",
       "\n",
       "[1776 rows x 6 columns]"
      ]
     },
     "execution_count": 68,
     "metadata": {},
     "output_type": "execute_result"
    }
   ],
   "source": [
    "X"
   ]
  },
  {
   "cell_type": "code",
   "execution_count": 69,
   "metadata": {},
   "outputs": [
    {
     "data": {
      "text/plain": [
       "0       1\n",
       "1       1\n",
       "2       1\n",
       "3       1\n",
       "4       1\n",
       "       ..\n",
       "1771    3\n",
       "1772    3\n",
       "1773    3\n",
       "1774    3\n",
       "1775    3\n",
       "Name: mood, Length: 1776, dtype: int64"
      ]
     },
     "execution_count": 69,
     "metadata": {},
     "output_type": "execute_result"
    }
   ],
   "source": [
    "y"
   ]
  },
  {
   "attachments": {},
   "cell_type": "markdown",
   "metadata": {},
   "source": [
    "### Creating Pipeline to Prepare for Modeling"
   ]
  },
  {
   "cell_type": "code",
   "execution_count": 70,
   "metadata": {},
   "outputs": [],
   "source": [
    "# Creating Pipelines\n",
    "subpipe_numerics = Pipeline(steps = [\n",
    "\t# ('num_impute', SimpleImputer(strategy='median')),\n",
    "\t('ss', StandardScaler())\n",
    "])\n",
    "\n",
    "# subpipe_cat = Pipeline(steps = [\n",
    "# \t('cat_impute', SimpleImputer(strategy='most_frequent')),\n",
    "# \t('ohe', OneHotEncoder(sparse=False, handle_unknown='ignore'))\n",
    "# ])"
   ]
  },
  {
   "cell_type": "code",
   "execution_count": 71,
   "metadata": {},
   "outputs": [],
   "source": [
    "# Creating a Column Transformer\n",
    "CT = ColumnTransformer(transformers=[\n",
    "\t('subpipe_numerics', subpipe_numerics,selector(dtype_include=np.number))\n",
    "\t# ,('subpipe_cat', subpipe_cat, selector(dype_include=object))\n",
    "], remainder='passthrough')"
   ]
  },
  {
   "attachments": {},
   "cell_type": "markdown",
   "metadata": {},
   "source": [
    "## Data Modeling\n",
    "\n",
    "Our analysis consisted of descriptive statistics, data visualization, and machine learning modeling. We used a logistic regression model to predict the dominant mood of a song based on it's audio features, and then compared the results to a decision tree model.\n",
    "\n",
    "Describe and justify the process for analyzing or modeling the data.\n",
    "\n",
    "***\n",
    "Questions to consider:\n",
    "* How did you analyze or model the data?\n",
    "* How did you iterate on your initial approach to make it better?\n",
    "* Why are these choices appropriate given the data and the business problem?\n",
    "***"
   ]
  },
  {
   "attachments": {},
   "cell_type": "markdown",
   "metadata": {},
   "source": [
    "### Creating the Baseline Model"
   ]
  },
  {
   "cell_type": "code",
   "execution_count": 72,
   "metadata": {},
   "outputs": [],
   "source": [
    "# Creates a Pipeline for the Dummy Baseline Model\n",
    "dummy_model_pipe = Pipeline(steps = [\n",
    "\t('ct',CT),\n",
    "\t('baseline', DummyClassifier(strategy='most_frequent'))\n",
    "])"
   ]
  },
  {
   "cell_type": "code",
   "execution_count": 73,
   "metadata": {},
   "outputs": [
    {
     "data": {
      "text/plain": [
       "Pipeline(steps=[('ct',\n",
       "                 ColumnTransformer(remainder='passthrough',\n",
       "                                   transformers=[('subpipe_numerics',\n",
       "                                                  Pipeline(steps=[('ss',\n",
       "                                                                   StandardScaler())]),\n",
       "                                                  <sklearn.compose._column_transformer.make_column_selector object at 0x000001751D5EFAC0>)])),\n",
       "                ('baseline', DummyClassifier(strategy='most_frequent'))])"
      ]
     },
     "execution_count": 73,
     "metadata": {},
     "output_type": "execute_result"
    }
   ],
   "source": [
    "# Trains the model on the training data\n",
    "dummy_model_pipe.fit(X_train, y_train)  "
   ]
  },
  {
   "cell_type": "code",
   "execution_count": 74,
   "metadata": {},
   "outputs": [
    {
     "data": {
      "text/plain": [
       "0.2549295774647887"
      ]
     },
     "execution_count": 74,
     "metadata": {},
     "output_type": "execute_result"
    }
   ],
   "source": [
    "# Returns the mean accuracy score of the model based on the given training data and labels\n",
    "dummy_model_pipe.score(X_train, y_train)"
   ]
  },
  {
   "cell_type": "code",
   "execution_count": 75,
   "metadata": {},
   "outputs": [
    {
     "data": {
      "text/plain": [
       "0.28370786516853935"
      ]
     },
     "execution_count": 75,
     "metadata": {},
     "output_type": "execute_result"
    }
   ],
   "source": [
    "# Returns the mean accuracy score of the model based on the given testing data and labels\n",
    "dummy_model_pipe.score(X_test, y_test)"
   ]
  },
  {
   "cell_type": "code",
   "execution_count": 76,
   "metadata": {},
   "outputs": [],
   "source": [
    "# dummy_pipe = ModelWithCV(\n",
    "# \tdummy_model_pipe,\n",
    "# \tmodel_name='dummy',\n",
    "# \tX=X_train,\n",
    "# \ty=y_train)\n",
    "\n",
    "# fig, ax = plt.subplots(figsize=(10,10))\n",
    "\n",
    "# dummy_pipe.plot_cv(ax=ax)"
   ]
  },
  {
   "attachments": {},
   "cell_type": "markdown",
   "metadata": {},
   "source": [
    "### Creating the First Simple Model"
   ]
  },
  {
   "attachments": {},
   "cell_type": "markdown",
   "metadata": {},
   "source": [
    "#### The Logistic Regression Model"
   ]
  },
  {
   "cell_type": "code",
   "execution_count": 77,
   "metadata": {},
   "outputs": [],
   "source": [
    "# Creates a Pipeline for the Logistic Regression Model\n",
    "logreg_model_pipe = Pipeline(steps = [\n",
    "\t('ct',CT),\n",
    "\t('fsm_logreg', LogisticRegression())\n",
    "])"
   ]
  },
  {
   "cell_type": "code",
   "execution_count": 78,
   "metadata": {},
   "outputs": [
    {
     "data": {
      "text/plain": [
       "Pipeline(steps=[('ct',\n",
       "                 ColumnTransformer(remainder='passthrough',\n",
       "                                   transformers=[('subpipe_numerics',\n",
       "                                                  Pipeline(steps=[('ss',\n",
       "                                                                   StandardScaler())]),\n",
       "                                                  <sklearn.compose._column_transformer.make_column_selector object at 0x000001751D5EFAC0>)])),\n",
       "                ('fsm_logreg', LogisticRegression())])"
      ]
     },
     "execution_count": 78,
     "metadata": {},
     "output_type": "execute_result"
    }
   ],
   "source": [
    "# Trains the logistic regression model\n",
    "logreg_model_pipe.fit(X_train, y_train)"
   ]
  },
  {
   "cell_type": "code",
   "execution_count": 79,
   "metadata": {},
   "outputs": [
    {
     "data": {
      "text/plain": [
       "0.44295774647887326"
      ]
     },
     "execution_count": 79,
     "metadata": {},
     "output_type": "execute_result"
    }
   ],
   "source": [
    "# Returns the mean accuracy score of the model based on the given training data and labels\n",
    "logreg_model_pipe.score(X_train, y_train)"
   ]
  },
  {
   "cell_type": "code",
   "execution_count": 80,
   "metadata": {},
   "outputs": [
    {
     "data": {
      "text/plain": [
       "0.45224719101123595"
      ]
     },
     "execution_count": 80,
     "metadata": {},
     "output_type": "execute_result"
    }
   ],
   "source": [
    "# Returns the mean accuracy score of the model based on the given testing data and labels\n",
    "logreg_model_pipe.score(X_test, y_test)"
   ]
  },
  {
   "cell_type": "code",
   "execution_count": 81,
   "metadata": {},
   "outputs": [],
   "source": [
    "# # Baseline Evaluation of the model\n",
    "# # def model_eval(model, X_train, X_test, y_train, y_test):\n",
    "# y_pred = logreg_model_pipe.predict(X_test)\n",
    "# accuracy = accuracy_score(y_test, y_pred)\n",
    "# report = classification_report(y_test, y_pred)\n",
    "# confusion_mat = confusion_matrix(y_test, y_pred)\n",
    "\n",
    "# print(f'Accuracy: {accuracy}')\n",
    "# print(f'Classification Report:\\n{report}')\n",
    "# cm_disp = ConfusionMatrixDisplay(confusion_matrix=confusion_mat, display_labels=mood_list)\n",
    "# cm_disp.plot()\n",
    "# plt.show()"
   ]
  },
  {
   "attachments": {},
   "cell_type": "markdown",
   "metadata": {},
   "source": [
    "#### The Decision Tree Model"
   ]
  },
  {
   "cell_type": "code",
   "execution_count": 82,
   "metadata": {},
   "outputs": [],
   "source": [
    "# Creates a Pipeline for the Decision Tree Model\n",
    "DT_model_pipe = Pipeline(steps = [\n",
    "\t('ct',CT),\n",
    "\t('dt', DecisionTreeClassifier())\n",
    "])"
   ]
  },
  {
   "cell_type": "code",
   "execution_count": 83,
   "metadata": {},
   "outputs": [
    {
     "data": {
      "text/plain": [
       "Pipeline(steps=[('ct',\n",
       "                 ColumnTransformer(remainder='passthrough',\n",
       "                                   transformers=[('subpipe_numerics',\n",
       "                                                  Pipeline(steps=[('ss',\n",
       "                                                                   StandardScaler())]),\n",
       "                                                  <sklearn.compose._column_transformer.make_column_selector object at 0x000001751D5EFAC0>)])),\n",
       "                ('dt', DecisionTreeClassifier())])"
      ]
     },
     "execution_count": 83,
     "metadata": {},
     "output_type": "execute_result"
    }
   ],
   "source": [
    "# Trains the logistic regression model\n",
    "DT_model_pipe.fit(X_train, y_train)"
   ]
  },
  {
   "cell_type": "code",
   "execution_count": 84,
   "metadata": {},
   "outputs": [
    {
     "data": {
      "text/plain": [
       "0.9929577464788732"
      ]
     },
     "execution_count": 84,
     "metadata": {},
     "output_type": "execute_result"
    }
   ],
   "source": [
    "# Returns the mean accuracy score of the model based on the given training data and labels\n",
    "DT_model_pipe.score(X_train, y_train)"
   ]
  },
  {
   "cell_type": "code",
   "execution_count": 85,
   "metadata": {},
   "outputs": [
    {
     "data": {
      "text/plain": [
       "0.8398876404494382"
      ]
     },
     "execution_count": 85,
     "metadata": {},
     "output_type": "execute_result"
    }
   ],
   "source": [
    "# Returns the mean accuracy score of the model based on the given testing data and labels\n",
    "DT_model_pipe.score(X_test, y_test)"
   ]
  },
  {
   "cell_type": "code",
   "execution_count": 86,
   "metadata": {},
   "outputs": [],
   "source": [
    "# # Evaluates the model\n",
    "# y_pred = model.predict(X_test)\n",
    "# accuracy = accuracy_score(y_test, y_pred)\n",
    "# report = classification_report(y_test, y_pred)\n",
    "# confusion_mat = confusion_matrix(y_test, y_pred)\n",
    "\n",
    "# print(f'Accuracy: {accuracy}')\n",
    "# print(f'Classification Report:\\n{report}')\n",
    "\n",
    "# cm_disp = ConfusionMatrixDisplay(confusion_matrix=confusion_mat, display_labels=mood_list)\n",
    "# cm_disp.plot()\n",
    "# plt.show()"
   ]
  },
  {
   "attachments": {},
   "cell_type": "markdown",
   "metadata": {},
   "source": [
    "***Discussion of Comparison of baseline model results***"
   ]
  },
  {
   "attachments": {},
   "cell_type": "markdown",
   "metadata": {},
   "source": [
    "### Iterating on the Baseline Model"
   ]
  },
  {
   "cell_type": "code",
   "execution_count": null,
   "metadata": {},
   "outputs": [],
   "source": []
  },
  {
   "attachments": {},
   "cell_type": "markdown",
   "metadata": {},
   "source": [
    "## Evaluation\n",
    "\n",
    "Baseline results of the model showed decision trees to be the superior model, with an accuracy score of 0.83. The logistic regression model had an accuracy score of 0.54. The decision tree model was also able to predict the dominant mood of a song with a 0.45 accuracy score. After tuning both models further, the decision tree model was able to achieve an accuracy score of 0.85, and the logistic regression model was able to achieve an accuracy score of 0.55. The decision tree model was also able to predict the dominant mood of a song with a 0.46 accuracy score.\n",
    "\n",
    "Evaluate how well your work solves the stated business problem.\n",
    "\n",
    "***\n",
    "Questions to consider:\n",
    "* How do you interpret the results?\n",
    "* How well does your model fit your data? How much better is this than your baseline model?\n",
    "* How confident are you that your results would generalize beyond the data you have?\n",
    "* How confident are you that this model would benefit the business if put into use?\n",
    "***"
   ]
  },
  {
   "attachments": {},
   "cell_type": "markdown",
   "metadata": {},
   "source": [
    "## Conclusions\n",
    "Based on the analysis, the author recommends the use of audio feature data to predict the dominant mood of a song. The author also recommends the use of a decision tree model to predict the dominant mood of a song based on it's audio features. The author does not recommend the use of a logistic regression model to predict the dominant mood of a song based on it's audio features.\n",
    "\n",
    "***\n",
    "Questions to consider:\n",
    "* What would you recommend the business do as a result of this work?\n",
    "* What are some reasons why your analysis might not fully solve the business problem?\n",
    "* What else could you do in the future to improve this project?\n",
    "***"
   ]
  }
 ],
 "metadata": {
  "kernelspec": {
   "display_name": "learn-env",
   "language": "python",
   "name": "python3"
  },
  "language_info": {
   "codemirror_mode": {
    "name": "ipython",
    "version": 3
   },
   "file_extension": ".py",
   "mimetype": "text/x-python",
   "name": "python",
   "nbconvert_exporter": "python",
   "pygments_lexer": "ipython3",
   "version": "3.8.5"
  },
  "orig_nbformat": 4
 },
 "nbformat": 4,
 "nbformat_minor": 2
}
