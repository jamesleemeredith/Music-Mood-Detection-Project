{
 "cells": [
  {
   "attachments": {},
   "cell_type": "markdown",
   "metadata": {},
   "source": [
    "# Data Cleaning File"
   ]
  },
  {
   "attachments": {},
   "cell_type": "markdown",
   "metadata": {},
   "source": [
    "## Imports"
   ]
  },
  {
   "cell_type": "code",
   "execution_count": 170,
   "metadata": {},
   "outputs": [],
   "source": [
    "# import librosa\n",
    "import numpy as np\n",
    "import pandas as pd\n",
    "import matplotlib.pyplot as plt\n",
    "from sklearn.model_selection import train_test_split\n",
    "from sklearn.linear_model import LogisticRegression\n",
    "from sklearn.tree import DecisionTreeClassifier\n",
    "from sklearn.metrics import accuracy_score, classification_report, confusion_matrix, ConfusionMatrixDisplay\n",
    "from sklearn.datasets import make_classification\n",
    "from sklearn.svm import SVC\n",
    "# import re\n",
    "# import spotipy\n",
    "# from spotipy.oauth2 import SpotifyClientCredentials\n",
    "# import spotifyusercredentials\n",
    "\n",
    "# # Spotify API Authentication (with separate user credentials)\n",
    "# client_credentials_manager = SpotifyClientCredentials(client_id=spotifyusercredentials.client_ID, client_secret=spotifyusercredentials.client_SECRET)\n",
    "# sp = spotipy.Spotify(client_credentials_manager = client_credentials_manager)"
   ]
  },
  {
   "attachments": {},
   "cell_type": "markdown",
   "metadata": {},
   "source": [
    "## Importing and Cleaning Data"
   ]
  },
  {
   "cell_type": "code",
   "execution_count": 171,
   "metadata": {},
   "outputs": [],
   "source": [
    "# Step 1: Load and preprocess the dataset\n",
    "# Assuming you have a dataset with features extracted and emotion labels\n",
    "df = pd.read_csv('../data/f1combfinal2.csv')  # Replace 'music_dataset.csv' with your dataset file"
   ]
  },
  {
   "cell_type": "code",
   "execution_count": 172,
   "metadata": {},
   "outputs": [
    {
     "data": {
      "text/html": [
       "<div>\n",
       "<style scoped>\n",
       "    .dataframe tbody tr th:only-of-type {\n",
       "        vertical-align: middle;\n",
       "    }\n",
       "\n",
       "    .dataframe tbody tr th {\n",
       "        vertical-align: top;\n",
       "    }\n",
       "\n",
       "    .dataframe thead th {\n",
       "        text-align: right;\n",
       "    }\n",
       "</style>\n",
       "<table border=\"1\" class=\"dataframe\">\n",
       "  <thead>\n",
       "    <tr style=\"text-align: right;\">\n",
       "      <th></th>\n",
       "      <th>f_name</th>\n",
       "      <th>a_name</th>\n",
       "      <th>title</th>\n",
       "      <th>lyrics</th>\n",
       "      <th>spot_id</th>\n",
       "      <th>sr_json</th>\n",
       "      <th>tempo</th>\n",
       "      <th>energy</th>\n",
       "      <th>danceability</th>\n",
       "      <th>loudness</th>\n",
       "      <th>valence</th>\n",
       "      <th>acousticness</th>\n",
       "      <th>tr_json</th>\n",
       "      <th>mood</th>\n",
       "    </tr>\n",
       "  </thead>\n",
       "  <tbody>\n",
       "    <tr>\n",
       "      <th>0</th>\n",
       "      <td>angry_all/50 Ft Queenie.mp3</td>\n",
       "      <td>PJ Harvey</td>\n",
       "      <td>50 Ft Queenie</td>\n",
       "      <td>Hey I'm one big queen  No one can stop me Red ...</td>\n",
       "      <td>3fJprjhRxTVtOp18EHdNfu</td>\n",
       "      <td>{\\n \"tracks\": {\\n  \"href\": \"https://api.spotif...</td>\n",
       "      <td>126.366</td>\n",
       "      <td>0.667</td>\n",
       "      <td>0.382</td>\n",
       "      <td>-16.077</td>\n",
       "      <td>0.718</td>\n",
       "      <td>0.000652</td>\n",
       "      <td>{\\n \"acousticness\": 0.000652,\\n \"analysis_url\"...</td>\n",
       "      <td>1</td>\n",
       "    </tr>\n",
       "    <tr>\n",
       "      <th>1</th>\n",
       "      <td>angry_all/A Bad Dream.mp3</td>\n",
       "      <td>Keane</td>\n",
       "      <td>A Bad Dream</td>\n",
       "      <td>Why do I have to fly over every town up and do...</td>\n",
       "      <td>17ScnUBsr3CgfJGd7k0kAZ</td>\n",
       "      <td>{\\n \"tracks\": {\\n  \"href\": \"https://api.spotif...</td>\n",
       "      <td>145.035</td>\n",
       "      <td>0.760</td>\n",
       "      <td>0.405</td>\n",
       "      <td>-4.852</td>\n",
       "      <td>0.316</td>\n",
       "      <td>0.008240</td>\n",
       "      <td>{\\n \"acousticness\": 0.00824,\\n \"analysis_url\":...</td>\n",
       "      <td>1</td>\n",
       "    </tr>\n",
       "    <tr>\n",
       "      <th>2</th>\n",
       "      <td>angry_all/Agenda Suicide (Jagz Kooner Remix).mp3</td>\n",
       "      <td>The Faint</td>\n",
       "      <td>Agenda Suicide</td>\n",
       "      <td>You could follow logic Or contest it all The w...</td>\n",
       "      <td>4Mhj9IjSxTOOWGCS5MbBG4</td>\n",
       "      <td>{\\n \"tracks\": {\\n  \"href\": \"https://api.spotif...</td>\n",
       "      <td>144.585</td>\n",
       "      <td>0.703</td>\n",
       "      <td>0.574</td>\n",
       "      <td>-7.789</td>\n",
       "      <td>0.275</td>\n",
       "      <td>0.006580</td>\n",
       "      <td>{\\n \"acousticness\": 0.00658,\\n \"analysis_url\":...</td>\n",
       "      <td>1</td>\n",
       "    </tr>\n",
       "    <tr>\n",
       "      <th>3</th>\n",
       "      <td>angry_all/Alternative Ulster.mp3</td>\n",
       "      <td>Stiff Little Fingers</td>\n",
       "      <td>Alternative Ulster</td>\n",
       "      <td>There's nothin' for us in Belfast The Pound's ...</td>\n",
       "      <td>0MDJjySh4ydA8CyFVkcFQh</td>\n",
       "      <td>{\\n \"tracks\": {\\n  \"href\": \"https://api.spotif...</td>\n",
       "      <td>118.181</td>\n",
       "      <td>0.925</td>\n",
       "      <td>0.600</td>\n",
       "      <td>-9.148</td>\n",
       "      <td>0.382</td>\n",
       "      <td>0.008820</td>\n",
       "      <td>{\\n \"acousticness\": 0.00882,\\n \"analysis_url\":...</td>\n",
       "      <td>1</td>\n",
       "    </tr>\n",
       "    <tr>\n",
       "      <th>4</th>\n",
       "      <td>angry_all/Animal Instinct.mp3</td>\n",
       "      <td>The Cranberries</td>\n",
       "      <td>Animal Instinct</td>\n",
       "      <td>Suddenly something has happened to me As I was...</td>\n",
       "      <td>3J58Ccc5iTbCRnYx2xjo6d</td>\n",
       "      <td>{\\n \"tracks\": {\\n  \"href\": \"https://api.spotif...</td>\n",
       "      <td>132.145</td>\n",
       "      <td>0.823</td>\n",
       "      <td>0.622</td>\n",
       "      <td>-5.381</td>\n",
       "      <td>0.605</td>\n",
       "      <td>0.094600</td>\n",
       "      <td>{\\n \"acousticness\": 0.0946,\\n \"analysis_url\": ...</td>\n",
       "      <td>1</td>\n",
       "    </tr>\n",
       "  </tbody>\n",
       "</table>\n",
       "</div>"
      ],
      "text/plain": [
       "                                             f_name                a_name  \\\n",
       "0                       angry_all/50 Ft Queenie.mp3             PJ Harvey   \n",
       "1                         angry_all/A Bad Dream.mp3                 Keane   \n",
       "2  angry_all/Agenda Suicide (Jagz Kooner Remix).mp3             The Faint   \n",
       "3                  angry_all/Alternative Ulster.mp3  Stiff Little Fingers   \n",
       "4                     angry_all/Animal Instinct.mp3       The Cranberries   \n",
       "\n",
       "                title                                             lyrics  \\\n",
       "0       50 Ft Queenie  Hey I'm one big queen  No one can stop me Red ...   \n",
       "1         A Bad Dream  Why do I have to fly over every town up and do...   \n",
       "2     Agenda Suicide   You could follow logic Or contest it all The w...   \n",
       "3  Alternative Ulster  There's nothin' for us in Belfast The Pound's ...   \n",
       "4     Animal Instinct  Suddenly something has happened to me As I was...   \n",
       "\n",
       "                  spot_id                                            sr_json  \\\n",
       "0  3fJprjhRxTVtOp18EHdNfu  {\\n \"tracks\": {\\n  \"href\": \"https://api.spotif...   \n",
       "1  17ScnUBsr3CgfJGd7k0kAZ  {\\n \"tracks\": {\\n  \"href\": \"https://api.spotif...   \n",
       "2  4Mhj9IjSxTOOWGCS5MbBG4  {\\n \"tracks\": {\\n  \"href\": \"https://api.spotif...   \n",
       "3  0MDJjySh4ydA8CyFVkcFQh  {\\n \"tracks\": {\\n  \"href\": \"https://api.spotif...   \n",
       "4  3J58Ccc5iTbCRnYx2xjo6d  {\\n \"tracks\": {\\n  \"href\": \"https://api.spotif...   \n",
       "\n",
       "     tempo  energy  danceability  loudness  valence  acousticness  \\\n",
       "0  126.366   0.667         0.382   -16.077    0.718      0.000652   \n",
       "1  145.035   0.760         0.405    -4.852    0.316      0.008240   \n",
       "2  144.585   0.703         0.574    -7.789    0.275      0.006580   \n",
       "3  118.181   0.925         0.600    -9.148    0.382      0.008820   \n",
       "4  132.145   0.823         0.622    -5.381    0.605      0.094600   \n",
       "\n",
       "                                             tr_json  mood  \n",
       "0  {\\n \"acousticness\": 0.000652,\\n \"analysis_url\"...     1  \n",
       "1  {\\n \"acousticness\": 0.00824,\\n \"analysis_url\":...     1  \n",
       "2  {\\n \"acousticness\": 0.00658,\\n \"analysis_url\":...     1  \n",
       "3  {\\n \"acousticness\": 0.00882,\\n \"analysis_url\":...     1  \n",
       "4  {\\n \"acousticness\": 0.0946,\\n \"analysis_url\": ...     1  "
      ]
     },
     "execution_count": 172,
     "metadata": {},
     "output_type": "execute_result"
    }
   ],
   "source": [
    "df.head()"
   ]
  },
  {
   "cell_type": "code",
   "execution_count": 173,
   "metadata": {},
   "outputs": [
    {
     "name": "stdout",
     "output_type": "stream",
     "text": [
      "<class 'pandas.core.frame.DataFrame'>\n",
      "RangeIndex: 1776 entries, 0 to 1775\n",
      "Data columns (total 14 columns):\n",
      " #   Column        Non-Null Count  Dtype  \n",
      "---  ------        --------------  -----  \n",
      " 0   f_name        1776 non-null   object \n",
      " 1   a_name        1776 non-null   object \n",
      " 2   title         1776 non-null   object \n",
      " 3   lyrics        1776 non-null   object \n",
      " 4   spot_id       1776 non-null   object \n",
      " 5   sr_json       1776 non-null   object \n",
      " 6   tempo         1776 non-null   float64\n",
      " 7   energy        1776 non-null   float64\n",
      " 8   danceability  1776 non-null   float64\n",
      " 9   loudness      1776 non-null   float64\n",
      " 10  valence       1776 non-null   float64\n",
      " 11  acousticness  1776 non-null   float64\n",
      " 12  tr_json       1776 non-null   object \n",
      " 13  mood          1776 non-null   int64  \n",
      "dtypes: float64(6), int64(1), object(7)\n",
      "memory usage: 194.4+ KB\n"
     ]
    }
   ],
   "source": [
    "df.info()"
   ]
  },
  {
   "cell_type": "code",
   "execution_count": 174,
   "metadata": {},
   "outputs": [],
   "source": [
    "mood_codes={0:'Happy',\n",
    "1:'Angry',\n",
    "2:'Sad',\n",
    "3:'Relaxed'\n",
    "}"
   ]
  },
  {
   "cell_type": "code",
   "execution_count": 175,
   "metadata": {},
   "outputs": [],
   "source": [
    "mood_list = ['Happy', 'Angry', 'Sad', 'Relaxed']"
   ]
  },
  {
   "attachments": {},
   "cell_type": "markdown",
   "metadata": {},
   "source": [
    "## Train-Test Split"
   ]
  },
  {
   "cell_type": "code",
   "execution_count": 176,
   "metadata": {},
   "outputs": [],
   "source": [
    "# Preparing columns to drop out of X\n",
    "columns_to_drop=df.columns[0:6].tolist()\n",
    "columns_to_drop.append(df.columns[-2])\n",
    "columns_to_drop.append(df.columns[-1])"
   ]
  },
  {
   "cell_type": "code",
   "execution_count": 177,
   "metadata": {},
   "outputs": [],
   "source": [
    "# Step 2: Split the dataset into training and testing sets\n",
    "X = df.drop(columns_to_drop, axis=1)  # Features\n",
    "y = df['mood']  # Emotion labels\n",
    "X_train, X_test, y_train, y_test = train_test_split(X, y, test_size=0.2, random_state=42)"
   ]
  },
  {
   "cell_type": "code",
   "execution_count": 178,
   "metadata": {},
   "outputs": [
    {
     "data": {
      "text/html": [
       "<div>\n",
       "<style scoped>\n",
       "    .dataframe tbody tr th:only-of-type {\n",
       "        vertical-align: middle;\n",
       "    }\n",
       "\n",
       "    .dataframe tbody tr th {\n",
       "        vertical-align: top;\n",
       "    }\n",
       "\n",
       "    .dataframe thead th {\n",
       "        text-align: right;\n",
       "    }\n",
       "</style>\n",
       "<table border=\"1\" class=\"dataframe\">\n",
       "  <thead>\n",
       "    <tr style=\"text-align: right;\">\n",
       "      <th></th>\n",
       "      <th>tempo</th>\n",
       "      <th>energy</th>\n",
       "      <th>danceability</th>\n",
       "      <th>loudness</th>\n",
       "      <th>valence</th>\n",
       "      <th>acousticness</th>\n",
       "    </tr>\n",
       "  </thead>\n",
       "  <tbody>\n",
       "    <tr>\n",
       "      <th>0</th>\n",
       "      <td>126.366</td>\n",
       "      <td>0.667</td>\n",
       "      <td>0.382</td>\n",
       "      <td>-16.077</td>\n",
       "      <td>0.718</td>\n",
       "      <td>0.000652</td>\n",
       "    </tr>\n",
       "    <tr>\n",
       "      <th>1</th>\n",
       "      <td>145.035</td>\n",
       "      <td>0.760</td>\n",
       "      <td>0.405</td>\n",
       "      <td>-4.852</td>\n",
       "      <td>0.316</td>\n",
       "      <td>0.008240</td>\n",
       "    </tr>\n",
       "    <tr>\n",
       "      <th>2</th>\n",
       "      <td>144.585</td>\n",
       "      <td>0.703</td>\n",
       "      <td>0.574</td>\n",
       "      <td>-7.789</td>\n",
       "      <td>0.275</td>\n",
       "      <td>0.006580</td>\n",
       "    </tr>\n",
       "    <tr>\n",
       "      <th>3</th>\n",
       "      <td>118.181</td>\n",
       "      <td>0.925</td>\n",
       "      <td>0.600</td>\n",
       "      <td>-9.148</td>\n",
       "      <td>0.382</td>\n",
       "      <td>0.008820</td>\n",
       "    </tr>\n",
       "    <tr>\n",
       "      <th>4</th>\n",
       "      <td>132.145</td>\n",
       "      <td>0.823</td>\n",
       "      <td>0.622</td>\n",
       "      <td>-5.381</td>\n",
       "      <td>0.605</td>\n",
       "      <td>0.094600</td>\n",
       "    </tr>\n",
       "    <tr>\n",
       "      <th>...</th>\n",
       "      <td>...</td>\n",
       "      <td>...</td>\n",
       "      <td>...</td>\n",
       "      <td>...</td>\n",
       "      <td>...</td>\n",
       "      <td>...</td>\n",
       "    </tr>\n",
       "    <tr>\n",
       "      <th>1771</th>\n",
       "      <td>136.924</td>\n",
       "      <td>0.286</td>\n",
       "      <td>0.434</td>\n",
       "      <td>-10.803</td>\n",
       "      <td>0.122</td>\n",
       "      <td>0.533000</td>\n",
       "    </tr>\n",
       "    <tr>\n",
       "      <th>1772</th>\n",
       "      <td>137.928</td>\n",
       "      <td>0.605</td>\n",
       "      <td>0.536</td>\n",
       "      <td>-6.231</td>\n",
       "      <td>0.156</td>\n",
       "      <td>0.129000</td>\n",
       "    </tr>\n",
       "    <tr>\n",
       "      <th>1773</th>\n",
       "      <td>122.979</td>\n",
       "      <td>0.137</td>\n",
       "      <td>0.424</td>\n",
       "      <td>-15.580</td>\n",
       "      <td>0.288</td>\n",
       "      <td>0.909000</td>\n",
       "    </tr>\n",
       "    <tr>\n",
       "      <th>1774</th>\n",
       "      <td>190.714</td>\n",
       "      <td>0.285</td>\n",
       "      <td>0.326</td>\n",
       "      <td>-9.377</td>\n",
       "      <td>0.455</td>\n",
       "      <td>0.841000</td>\n",
       "    </tr>\n",
       "    <tr>\n",
       "      <th>1775</th>\n",
       "      <td>89.994</td>\n",
       "      <td>0.728</td>\n",
       "      <td>0.387</td>\n",
       "      <td>-10.639</td>\n",
       "      <td>0.112</td>\n",
       "      <td>0.000178</td>\n",
       "    </tr>\n",
       "  </tbody>\n",
       "</table>\n",
       "<p>1776 rows × 6 columns</p>\n",
       "</div>"
      ],
      "text/plain": [
       "        tempo  energy  danceability  loudness  valence  acousticness\n",
       "0     126.366   0.667         0.382   -16.077    0.718      0.000652\n",
       "1     145.035   0.760         0.405    -4.852    0.316      0.008240\n",
       "2     144.585   0.703         0.574    -7.789    0.275      0.006580\n",
       "3     118.181   0.925         0.600    -9.148    0.382      0.008820\n",
       "4     132.145   0.823         0.622    -5.381    0.605      0.094600\n",
       "...       ...     ...           ...       ...      ...           ...\n",
       "1771  136.924   0.286         0.434   -10.803    0.122      0.533000\n",
       "1772  137.928   0.605         0.536    -6.231    0.156      0.129000\n",
       "1773  122.979   0.137         0.424   -15.580    0.288      0.909000\n",
       "1774  190.714   0.285         0.326    -9.377    0.455      0.841000\n",
       "1775   89.994   0.728         0.387   -10.639    0.112      0.000178\n",
       "\n",
       "[1776 rows x 6 columns]"
      ]
     },
     "execution_count": 178,
     "metadata": {},
     "output_type": "execute_result"
    }
   ],
   "source": [
    "X"
   ]
  },
  {
   "cell_type": "code",
   "execution_count": 179,
   "metadata": {},
   "outputs": [
    {
     "data": {
      "text/plain": [
       "0       1\n",
       "1       1\n",
       "2       1\n",
       "3       1\n",
       "4       1\n",
       "       ..\n",
       "1771    3\n",
       "1772    3\n",
       "1773    3\n",
       "1774    3\n",
       "1775    3\n",
       "Name: mood, Length: 1776, dtype: int64"
      ]
     },
     "execution_count": 179,
     "metadata": {},
     "output_type": "execute_result"
    }
   ],
   "source": [
    "y"
   ]
  },
  {
   "attachments": {},
   "cell_type": "markdown",
   "metadata": {},
   "source": [
    "## Comparing Models"
   ]
  },
  {
   "attachments": {},
   "cell_type": "markdown",
   "metadata": {},
   "source": [
    "### The Logistic Regression Model"
   ]
  },
  {
   "cell_type": "code",
   "execution_count": 180,
   "metadata": {},
   "outputs": [
    {
     "name": "stderr",
     "output_type": "stream",
     "text": [
      "c:\\Users\\James\\anaconda3\\envs\\learn-env\\lib\\site-packages\\sklearn\\linear_model\\_logistic.py:762: ConvergenceWarning: lbfgs failed to converge (status=1):\n",
      "STOP: TOTAL NO. of ITERATIONS REACHED LIMIT.\n",
      "\n",
      "Increase the number of iterations (max_iter) or scale the data as shown in:\n",
      "    https://scikit-learn.org/stable/modules/preprocessing.html\n",
      "Please also refer to the documentation for alternative solver options:\n",
      "    https://scikit-learn.org/stable/modules/linear_model.html#logistic-regression\n",
      "  n_iter_i = _check_optimize_result(\n"
     ]
    }
   ],
   "source": [
    "# Step 3: Train the logistic regression model\n",
    "model = LogisticRegression()\n",
    "model.fit(X_train, y_train);"
   ]
  },
  {
   "cell_type": "code",
   "execution_count": 181,
   "metadata": {},
   "outputs": [
    {
     "name": "stdout",
     "output_type": "stream",
     "text": [
      "Accuracy: 0.46348314606741575\n",
      "Classification Report:\n",
      "              precision    recall  f1-score   support\n",
      "\n",
      "           0       0.45      0.53      0.49        83\n",
      "           1       0.50      0.63      0.56       101\n",
      "           2       0.44      0.57      0.50        76\n",
      "           3       0.41      0.15      0.22        96\n",
      "\n",
      "    accuracy                           0.46       356\n",
      "   macro avg       0.45      0.47      0.44       356\n",
      "weighted avg       0.45      0.46      0.44       356\n",
      "\n"
     ]
    },
    {
     "data": {
      "image/png": "[encoded data removed]",
      "text/plain": [
       "<Figure size 432x288 with 2 Axes>"
      ]
     },
     "metadata": {
      "needs_background": "light"
     },
     "output_type": "display_data"
    }
   ],
   "source": [
    "# Step 4: Evaluate the model\n",
    "y_pred = model.predict(X_test)\n",
    "accuracy = accuracy_score(y_test, y_pred)\n",
    "report = classification_report(y_test, y_pred)\n",
    "confusion_mat = confusion_matrix(y_test, y_pred)\n",
    "\n",
    "print(f'Accuracy: {accuracy}')\n",
    "print(f'Classification Report:\\n{report}')\n",
    "cm_disp = ConfusionMatrixDisplay(confusion_matrix=confusion_mat, display_labels=mood_list)\n",
    "cm_disp.plot()\n",
    "plt.show()\n"
   ]
  },
  {
   "attachments": {},
   "cell_type": "markdown",
   "metadata": {},
   "source": [
    "### The Decision Tree Model"
   ]
  },
  {
   "cell_type": "code",
   "execution_count": 182,
   "metadata": {},
   "outputs": [
    {
     "data": {
      "text/plain": [
       "DecisionTreeClassifier()"
      ]
     },
     "execution_count": 182,
     "metadata": {},
     "output_type": "execute_result"
    }
   ],
   "source": [
    "# Step 3: Train the Decision Tree model\n",
    "model = DecisionTreeClassifier()\n",
    "model.fit(X_train, y_train)"
   ]
  },
  {
   "cell_type": "code",
   "execution_count": 183,
   "metadata": {},
   "outputs": [
    {
     "name": "stdout",
     "output_type": "stream",
     "text": [
      "Accuracy: 0.8455056179775281\n",
      "Classification Report:\n",
      "              precision    recall  f1-score   support\n",
      "\n",
      "           0       0.81      0.83      0.82        83\n",
      "           1       0.82      0.80      0.81       101\n",
      "           2       0.84      0.87      0.85        76\n",
      "           3       0.91      0.89      0.90        96\n",
      "\n",
      "    accuracy                           0.85       356\n",
      "   macro avg       0.84      0.85      0.85       356\n",
      "weighted avg       0.85      0.85      0.85       356\n",
      "\n"
     ]
    },
    {
     "data": {
      "image/png": "[encoded data removed]",
      "text/plain": [
       "<Figure size 432x288 with 2 Axes>"
      ]
     },
     "metadata": {
      "needs_background": "light"
     },
     "output_type": "display_data"
    }
   ],
   "source": [
    "# Step 4: Evaluate the model\n",
    "y_pred = model.predict(X_test)\n",
    "accuracy = accuracy_score(y_test, y_pred)\n",
    "report = classification_report(y_test, y_pred)\n",
    "confusion_mat = confusion_matrix(y_test, y_pred)\n",
    "\n",
    "print(f'Accuracy: {accuracy}')\n",
    "print(f'Classification Report:\\n{report}')\n",
    "\n",
    "cm_disp = ConfusionMatrixDisplay(confusion_matrix=confusion_mat, display_labels=mood_list)\n",
    "cm_disp.plot()\n",
    "plt.show()"
   ]
  },
  {
   "attachments": {},
   "cell_type": "markdown",
   "metadata": {},
   "source": [
    "### Discussion: Evaluating the two models\n"
   ]
  }
 ],
 "metadata": {
  "kernelspec": {
   "display_name": "learn-env",
   "language": "python",
   "name": "python3"
  },
  "language_info": {
   "codemirror_mode": {
    "name": "ipython",
    "version": 3
   },
   "file_extension": ".py",
   "mimetype": "text/x-python",
   "name": "python",
   "nbconvert_exporter": "python",
   "pygments_lexer": "ipython3",
   "version": "3.8.5"
  },
  "orig_nbformat": 4
 },
 "nbformat": 4,
 "nbformat_minor": 2
}
